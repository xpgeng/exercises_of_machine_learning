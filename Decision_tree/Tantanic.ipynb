{
 "cells": [
  {
   "cell_type": "markdown",
   "metadata": {},
   "source": [
    "# Decision Tree"
   ]
  },
  {
   "cell_type": "markdown",
   "metadata": {},
   "source": [
    "## 基本知识\n",
    "- 熵\n",
    "- 算法\n",
    "    - ID3\n",
    "    - C4.5\n",
    "    - CART\n",
    "  \n"
   ]
  },
  {
   "cell_type": "code",
   "execution_count": 46,
   "metadata": {
    "collapsed": true
   },
   "outputs": [],
   "source": [
    "import numpy as np\n",
    "import pandas as pd"
   ]
  },
  {
   "cell_type": "markdown",
   "metadata": {},
   "source": [
    "## 预处理\n",
    "- 选取特征\n",
    "    - Sex\n",
    "    - Survived\n",
    "    - Pclass\n",
    "    - age"
   ]
  },
  {
   "cell_type": "code",
   "execution_count": 245,
   "metadata": {
    "collapsed": true
   },
   "outputs": [],
   "source": [
    "df = pd.read_csv(\"train.csv\")"
   ]
  },
  {
   "cell_type": "code",
   "execution_count": 246,
   "metadata": {
    "collapsed": false
   },
   "outputs": [
    {
     "data": {
      "text/html": [
       "<div>\n",
       "<table border=\"1\" class=\"dataframe\">\n",
       "  <thead>\n",
       "    <tr style=\"text-align: right;\">\n",
       "      <th></th>\n",
       "      <th>PassengerId</th>\n",
       "      <th>Survived</th>\n",
       "      <th>Pclass</th>\n",
       "      <th>Name</th>\n",
       "      <th>Sex</th>\n",
       "      <th>Age</th>\n",
       "      <th>SibSp</th>\n",
       "      <th>Parch</th>\n",
       "      <th>Ticket</th>\n",
       "      <th>Fare</th>\n",
       "      <th>Cabin</th>\n",
       "      <th>Embarked</th>\n",
       "    </tr>\n",
       "  </thead>\n",
       "  <tbody>\n",
       "    <tr>\n",
       "      <th>0</th>\n",
       "      <td>1</td>\n",
       "      <td>0</td>\n",
       "      <td>3</td>\n",
       "      <td>Braund, Mr. Owen Harris</td>\n",
       "      <td>male</td>\n",
       "      <td>22.0</td>\n",
       "      <td>1</td>\n",
       "      <td>0</td>\n",
       "      <td>A/5 21171</td>\n",
       "      <td>7.2500</td>\n",
       "      <td>NaN</td>\n",
       "      <td>S</td>\n",
       "    </tr>\n",
       "    <tr>\n",
       "      <th>1</th>\n",
       "      <td>2</td>\n",
       "      <td>1</td>\n",
       "      <td>1</td>\n",
       "      <td>Cumings, Mrs. John Bradley (Florence Briggs Th...</td>\n",
       "      <td>female</td>\n",
       "      <td>38.0</td>\n",
       "      <td>1</td>\n",
       "      <td>0</td>\n",
       "      <td>PC 17599</td>\n",
       "      <td>71.2833</td>\n",
       "      <td>C85</td>\n",
       "      <td>C</td>\n",
       "    </tr>\n",
       "    <tr>\n",
       "      <th>2</th>\n",
       "      <td>3</td>\n",
       "      <td>1</td>\n",
       "      <td>3</td>\n",
       "      <td>Heikkinen, Miss. Laina</td>\n",
       "      <td>female</td>\n",
       "      <td>26.0</td>\n",
       "      <td>0</td>\n",
       "      <td>0</td>\n",
       "      <td>STON/O2. 3101282</td>\n",
       "      <td>7.9250</td>\n",
       "      <td>NaN</td>\n",
       "      <td>S</td>\n",
       "    </tr>\n",
       "    <tr>\n",
       "      <th>3</th>\n",
       "      <td>4</td>\n",
       "      <td>1</td>\n",
       "      <td>1</td>\n",
       "      <td>Futrelle, Mrs. Jacques Heath (Lily May Peel)</td>\n",
       "      <td>female</td>\n",
       "      <td>35.0</td>\n",
       "      <td>1</td>\n",
       "      <td>0</td>\n",
       "      <td>113803</td>\n",
       "      <td>53.1000</td>\n",
       "      <td>C123</td>\n",
       "      <td>S</td>\n",
       "    </tr>\n",
       "    <tr>\n",
       "      <th>4</th>\n",
       "      <td>5</td>\n",
       "      <td>0</td>\n",
       "      <td>3</td>\n",
       "      <td>Allen, Mr. William Henry</td>\n",
       "      <td>male</td>\n",
       "      <td>35.0</td>\n",
       "      <td>0</td>\n",
       "      <td>0</td>\n",
       "      <td>373450</td>\n",
       "      <td>8.0500</td>\n",
       "      <td>NaN</td>\n",
       "      <td>S</td>\n",
       "    </tr>\n",
       "  </tbody>\n",
       "</table>\n",
       "</div>"
      ],
      "text/plain": [
       "   PassengerId  Survived  Pclass  \\\n",
       "0            1         0       3   \n",
       "1            2         1       1   \n",
       "2            3         1       3   \n",
       "3            4         1       1   \n",
       "4            5         0       3   \n",
       "\n",
       "                                                Name     Sex   Age  SibSp  \\\n",
       "0                            Braund, Mr. Owen Harris    male  22.0      1   \n",
       "1  Cumings, Mrs. John Bradley (Florence Briggs Th...  female  38.0      1   \n",
       "2                             Heikkinen, Miss. Laina  female  26.0      0   \n",
       "3       Futrelle, Mrs. Jacques Heath (Lily May Peel)  female  35.0      1   \n",
       "4                           Allen, Mr. William Henry    male  35.0      0   \n",
       "\n",
       "   Parch            Ticket     Fare Cabin Embarked  \n",
       "0      0         A/5 21171   7.2500   NaN        S  \n",
       "1      0          PC 17599  71.2833   C85        C  \n",
       "2      0  STON/O2. 3101282   7.9250   NaN        S  \n",
       "3      0            113803  53.1000  C123        S  \n",
       "4      0            373450   8.0500   NaN        S  "
      ]
     },
     "execution_count": 246,
     "metadata": {},
     "output_type": "execute_result"
    }
   ],
   "source": [
    "df.head()"
   ]
  },
  {
   "cell_type": "code",
   "execution_count": 247,
   "metadata": {
    "collapsed": true
   },
   "outputs": [],
   "source": [
    "df = df.loc[:, ['Pclass', 'Sex', 'Age', 'Fare', 'Parch', 'Survived']]"
   ]
  },
  {
   "cell_type": "code",
   "execution_count": 248,
   "metadata": {
    "collapsed": false
   },
   "outputs": [],
   "source": [
    "df = df.replace([\"male\", \"female\"], [0,1])"
   ]
  },
  {
   "cell_type": "code",
   "execution_count": 252,
   "metadata": {
    "collapsed": false
   },
   "outputs": [],
   "source": [
    "df = df[df.Age.notnull()]"
   ]
  },
  {
   "cell_type": "code",
   "execution_count": 253,
   "metadata": {
    "collapsed": false
   },
   "outputs": [
    {
     "data": {
      "text/html": [
       "<div>\n",
       "<table border=\"1\" class=\"dataframe\">\n",
       "  <thead>\n",
       "    <tr style=\"text-align: right;\">\n",
       "      <th></th>\n",
       "      <th>Pclass</th>\n",
       "      <th>Sex</th>\n",
       "      <th>Age</th>\n",
       "      <th>Fare</th>\n",
       "      <th>Parch</th>\n",
       "      <th>Survived</th>\n",
       "    </tr>\n",
       "  </thead>\n",
       "  <tbody>\n",
       "    <tr>\n",
       "      <th>0</th>\n",
       "      <td>3</td>\n",
       "      <td>0</td>\n",
       "      <td>22.0</td>\n",
       "      <td>7.2500</td>\n",
       "      <td>0</td>\n",
       "      <td>0</td>\n",
       "    </tr>\n",
       "    <tr>\n",
       "      <th>1</th>\n",
       "      <td>1</td>\n",
       "      <td>1</td>\n",
       "      <td>38.0</td>\n",
       "      <td>71.2833</td>\n",
       "      <td>0</td>\n",
       "      <td>1</td>\n",
       "    </tr>\n",
       "    <tr>\n",
       "      <th>2</th>\n",
       "      <td>3</td>\n",
       "      <td>1</td>\n",
       "      <td>26.0</td>\n",
       "      <td>7.9250</td>\n",
       "      <td>0</td>\n",
       "      <td>1</td>\n",
       "    </tr>\n",
       "    <tr>\n",
       "      <th>3</th>\n",
       "      <td>1</td>\n",
       "      <td>1</td>\n",
       "      <td>35.0</td>\n",
       "      <td>53.1000</td>\n",
       "      <td>0</td>\n",
       "      <td>1</td>\n",
       "    </tr>\n",
       "    <tr>\n",
       "      <th>4</th>\n",
       "      <td>3</td>\n",
       "      <td>0</td>\n",
       "      <td>35.0</td>\n",
       "      <td>8.0500</td>\n",
       "      <td>0</td>\n",
       "      <td>0</td>\n",
       "    </tr>\n",
       "  </tbody>\n",
       "</table>\n",
       "</div>"
      ],
      "text/plain": [
       "   Pclass  Sex   Age     Fare  Parch  Survived\n",
       "0       3    0  22.0   7.2500      0         0\n",
       "1       1    1  38.0  71.2833      0         1\n",
       "2       3    1  26.0   7.9250      0         1\n",
       "3       1    1  35.0  53.1000      0         1\n",
       "4       3    0  35.0   8.0500      0         0"
      ]
     },
     "execution_count": 253,
     "metadata": {},
     "output_type": "execute_result"
    }
   ],
   "source": [
    "df.head()"
   ]
  },
  {
   "cell_type": "code",
   "execution_count": 260,
   "metadata": {
    "collapsed": false
   },
   "outputs": [
    {
     "data": {
      "text/html": [
       "<div>\n",
       "<table border=\"1\" class=\"dataframe\">\n",
       "  <thead>\n",
       "    <tr style=\"text-align: right;\">\n",
       "      <th></th>\n",
       "      <th>Pclass</th>\n",
       "      <th>Sex</th>\n",
       "      <th>Age</th>\n",
       "      <th>Fare</th>\n",
       "      <th>Parch</th>\n",
       "      <th>Survived</th>\n",
       "    </tr>\n",
       "  </thead>\n",
       "  <tbody>\n",
       "    <tr>\n",
       "      <th>count</th>\n",
       "      <td>714.000000</td>\n",
       "      <td>714.000000</td>\n",
       "      <td>714.000000</td>\n",
       "      <td>714.000000</td>\n",
       "      <td>714.000000</td>\n",
       "      <td>714.000000</td>\n",
       "    </tr>\n",
       "    <tr>\n",
       "      <th>mean</th>\n",
       "      <td>2.236695</td>\n",
       "      <td>0.365546</td>\n",
       "      <td>29.699118</td>\n",
       "      <td>34.694514</td>\n",
       "      <td>0.431373</td>\n",
       "      <td>0.406162</td>\n",
       "    </tr>\n",
       "    <tr>\n",
       "      <th>std</th>\n",
       "      <td>0.838250</td>\n",
       "      <td>0.481921</td>\n",
       "      <td>14.526497</td>\n",
       "      <td>52.918930</td>\n",
       "      <td>0.853289</td>\n",
       "      <td>0.491460</td>\n",
       "    </tr>\n",
       "    <tr>\n",
       "      <th>min</th>\n",
       "      <td>1.000000</td>\n",
       "      <td>0.000000</td>\n",
       "      <td>0.420000</td>\n",
       "      <td>0.000000</td>\n",
       "      <td>0.000000</td>\n",
       "      <td>0.000000</td>\n",
       "    </tr>\n",
       "    <tr>\n",
       "      <th>25%</th>\n",
       "      <td>1.000000</td>\n",
       "      <td>0.000000</td>\n",
       "      <td>20.125000</td>\n",
       "      <td>8.050000</td>\n",
       "      <td>0.000000</td>\n",
       "      <td>0.000000</td>\n",
       "    </tr>\n",
       "    <tr>\n",
       "      <th>50%</th>\n",
       "      <td>2.000000</td>\n",
       "      <td>0.000000</td>\n",
       "      <td>28.000000</td>\n",
       "      <td>15.741700</td>\n",
       "      <td>0.000000</td>\n",
       "      <td>0.000000</td>\n",
       "    </tr>\n",
       "    <tr>\n",
       "      <th>75%</th>\n",
       "      <td>3.000000</td>\n",
       "      <td>1.000000</td>\n",
       "      <td>38.000000</td>\n",
       "      <td>33.375000</td>\n",
       "      <td>1.000000</td>\n",
       "      <td>1.000000</td>\n",
       "    </tr>\n",
       "    <tr>\n",
       "      <th>max</th>\n",
       "      <td>3.000000</td>\n",
       "      <td>1.000000</td>\n",
       "      <td>80.000000</td>\n",
       "      <td>512.329200</td>\n",
       "      <td>6.000000</td>\n",
       "      <td>1.000000</td>\n",
       "    </tr>\n",
       "  </tbody>\n",
       "</table>\n",
       "</div>"
      ],
      "text/plain": [
       "           Pclass         Sex         Age        Fare       Parch    Survived\n",
       "count  714.000000  714.000000  714.000000  714.000000  714.000000  714.000000\n",
       "mean     2.236695    0.365546   29.699118   34.694514    0.431373    0.406162\n",
       "std      0.838250    0.481921   14.526497   52.918930    0.853289    0.491460\n",
       "min      1.000000    0.000000    0.420000    0.000000    0.000000    0.000000\n",
       "25%      1.000000    0.000000   20.125000    8.050000    0.000000    0.000000\n",
       "50%      2.000000    0.000000   28.000000   15.741700    0.000000    0.000000\n",
       "75%      3.000000    1.000000   38.000000   33.375000    1.000000    1.000000\n",
       "max      3.000000    1.000000   80.000000  512.329200    6.000000    1.000000"
      ]
     },
     "execution_count": 260,
     "metadata": {},
     "output_type": "execute_result"
    }
   ],
   "source": [
    "df.describe()"
   ]
  },
  {
   "cell_type": "markdown",
   "metadata": {},
   "source": [
    "## ID3"
   ]
  },
  {
   "cell_type": "code",
   "execution_count": 261,
   "metadata": {
    "collapsed": true
   },
   "outputs": [],
   "source": [
    "def divideset(df, column, value):\n",
    "    if isinstance(value, float) or len(df.loc[:, column].unique()) >= 4:\n",
    "        set1 = df[df[column] >= value]\n",
    "        set2 = df[df[column] < value]\n",
    "        return [set1,set2]\n",
    "    else:\n",
    "        sets = []\n",
    "        for i in range(len(df[column].unique())):\n",
    "            sets.append(df[df[column] == df[column].unique()[i]])\n",
    "        return sets"
   ]
  },
  {
   "cell_type": "code",
   "execution_count": 262,
   "metadata": {
    "collapsed": true
   },
   "outputs": [],
   "source": [
    "def count_item(df, column='Survived'):\n",
    "\n",
    "    results = {}\n",
    "    results_list = df[column].unique()\n",
    "    for item in results_list:\n",
    "        results[item] = len(df[df[column] == item])\n",
    "    return results"
   ]
  },
  {
   "cell_type": "code",
   "execution_count": 263,
   "metadata": {
    "collapsed": true
   },
   "outputs": [],
   "source": [
    "def entropy(df, column='Survived'):\n",
    "    '''calculate the entropy\n",
    "    '''\n",
    "    log2=lambda x:np.log(x)/np.log(2) \n",
    "    results=count_item(df, column)\n",
    "    # Now calculate the entropy\n",
    "    ent=0.0\n",
    "    for r in results.keys():\n",
    "        p=float(results[r])/len(df)\n",
    "        ent=ent-p*log2(p)\n",
    "    return ent"
   ]
  },
  {
   "cell_type": "code",
   "execution_count": 264,
   "metadata": {
    "collapsed": true
   },
   "outputs": [],
   "source": [
    "class decisionnode:\n",
    "    def __init__(self, col='Survived', value=None, results=None, branch=None):\n",
    "        self.col = col\n",
    "        self.value = value\n",
    "        self.results = results\n",
    "        self.branch = branch"
   ]
  },
  {
   "cell_type": "code",
   "execution_count": 293,
   "metadata": {
    "collapsed": false
   },
   "outputs": [],
   "source": [
    "def buildtree(df, features, scoref=entropy, column='Survived'):\n",
    "    \n",
    "    if len(df)==0: # check the items number of the set\n",
    "        return decisionnode() \n",
    "    current_score = scoref(df) # calculate the current entropy\n",
    "    \n",
    "    if len(features) == 0:\n",
    "        return \"Done!\"\n",
    "    \n",
    "    # initialization\n",
    "    best_gain = 0.0\n",
    "    best_criteria = None\n",
    "    best_sets = None\n",
    "    sets = []\n",
    "    \n",
    "    #sfsf\n",
    "    for feature in features:\n",
    "        if isinstance(df[feature].values[0], float) or len(df.loc[:, feature].unique()) >= 4:\n",
    "            # for such different values, we use bisection method \n",
    "            column_values = df[df[feature] > 0.].loc[:, feature].unique()         \n",
    "            for value in column_values:\n",
    "                sets = divideset(df, feature, value)\n",
    "                p = float(len(sets))/len(df) #p is the size of a child set relative to its parent\n",
    "                gain = current_score - p*scoref(sets[0]) - (1 - p)*scoref(sets[1]) #cf. formula information gain\n",
    "                # print 'Gain:'+str(gain), 'Value:'+str(value)\n",
    "                if gain > best_gain and len(sets)> 0: #set must not be empty\n",
    "                    best_gain = gain\n",
    "                    best_criteria = (feature, value)\n",
    "                    best_sets = sets\n",
    "            print 'Feature:' + feature, 'Its best_gain:'+str(best_gain), 'best_criteria:'+str(best_criteria)\n",
    "        else:\n",
    "            sets = divideset(df, feature, 0)\n",
    "            E_wight = 0\n",
    "            for i in range(len(sets)):\n",
    "                E_wight += float(len(sets[i]))/len(df)*scoref(sets[i])\n",
    "            gain = current_score - E_wight\n",
    "            # print 'Gain:'+str(gain)\n",
    "            if gain > best_gain and len(sets) > 0: #set must not be empty\n",
    "                best_gain = gain\n",
    "                best_criteria = (feature, df.loc[:, feature].unique())\n",
    "                best_sets = sets\n",
    "            print 'Feature:' + feature, 'Its best_gain:'+str(best_gain), 'best_criteria:'+str(best_criteria)\n",
    "    print 'best_gain:'+str(best_gain), 'best_criteria:'+str(best_criteria)\n",
    "    if best_gain > 0:\n",
    "        i = 0\n",
    "        for feature in features:         \n",
    "            if feature == best_criteria[0]:\n",
    "                index = i\n",
    "                break\n",
    "            i += 1\n",
    "                \n",
    "        features = np.delete(features, index)\n",
    "        print features\n",
    "        branches = []\n",
    "        for j in range(len(best_sets)):\n",
    "            print str(j+1)+'loop'\n",
    "            branches.append(buildtree(best_sets[j], features))\n",
    "            print str(j)+features\n",
    "        return decisionnode(col=best_criteria[0], value=best_criteria[1], branch=branches)\n",
    "    else:\n",
    "        return decisionnode(results=count_item(df))"
   ]
  },
  {
   "cell_type": "code",
   "execution_count": 291,
   "metadata": {
    "collapsed": true
   },
   "outputs": [],
   "source": [
    "features = df.columns.values[0: -1]"
   ]
  },
  {
   "cell_type": "code",
   "execution_count": 292,
   "metadata": {
    "collapsed": false
   },
   "outputs": [
    {
     "name": "stdout",
     "output_type": "stream",
     "text": [
      "Feature:Pclass Its best_gain:0.0956802853653 best_criteria:('Pclass', array([3, 1, 2]))\n",
      "Feature:Sex Its best_gain:0.216016060752 best_criteria:('Sex', array([0, 1]))\n",
      "Feature:Age Its best_gain:0.971721243718 best_criteria:('Age', 1.0)\n",
      "Feature:Fare Its best_gain:0.971721243718 best_criteria:('Age', 1.0)\n",
      "Feature:Parch Its best_gain:0.971721243718 best_criteria:('Age', 1.0)\n",
      "best_gain:0.971721243718 best_criteria:('Age', 1.0)\n",
      "['Pclass' 'Sex' 'Fare' 'Parch']\n",
      "1loop\n",
      "Feature:Pclass Its best_gain:0.0979064882575 best_criteria:('Pclass', array([3, 1, 2]))\n",
      "Feature:Sex Its best_gain:0.222711526805 best_criteria:('Sex', array([0, 1]))\n",
      "Feature:Fare Its best_gain:0.632020377971 best_criteria:('Fare', 6.9749999999999996)\n",
      "Feature:Parch Its best_gain:0.632020377971 best_criteria:('Fare', 6.9749999999999996)\n",
      "best_gain:0.632020377971 best_criteria:('Fare', 6.9749999999999996)\n",
      "['Pclass' 'Sex' 'Parch']\n",
      "1loop\n",
      "Feature:Pclass Its best_gain:0.100294027175 best_criteria:('Pclass', array([3, 1, 2]))\n",
      "Feature:Sex Its best_gain:0.222539448199 best_criteria:('Sex', array([0, 1]))\n",
      "Feature:Parch Its best_gain:0.222539448199 best_criteria:('Sex', array([0, 1]))\n",
      "best_gain:0.222539448199 best_criteria:('Sex', array([0, 1]))\n",
      "['Pclass' 'Parch']\n",
      "1loop\n",
      "Feature:Pclass Its best_gain:0.0486476263771 best_criteria:('Pclass', array([3, 1, 2]))\n",
      "Feature:Parch Its best_gain:0.0486476263771 best_criteria:('Pclass', array([3, 1, 2]))\n",
      "best_gain:0.0486476263771 best_criteria:('Pclass', array([3, 1, 2]))\n",
      "['Parch']\n",
      "1loop\n",
      "Feature:Parch Its best_gain:0.0212363604493 best_criteria:('Parch', 1)\n",
      "best_gain:0.0212363604493 best_criteria:('Parch', 1)\n",
      "[]\n",
      "1loop\n",
      "[]\n",
      "2loop\n",
      "[]\n",
      "['0Parch']\n",
      "2loop\n",
      "Feature:Parch Its best_gain:0.0180628970017 best_criteria:('Parch', 4)\n",
      "best_gain:0.0180628970017 best_criteria:('Parch', 4)\n",
      "[]\n",
      "1loop\n",
      "[]\n",
      "2loop\n",
      "[]\n",
      "['1Parch']\n",
      "3loop\n",
      "Feature:Parch Its best_gain:0.067017973327 best_criteria:('Parch', array([0, 1, 2]))\n",
      "best_gain:0.067017973327 best_criteria:('Parch', array([0, 1, 2]))\n",
      "[]\n",
      "1loop\n",
      "[]\n",
      "2loop\n",
      "[]\n",
      "3loop\n",
      "[]\n",
      "['2Parch']\n",
      "['0Pclass' '0Parch']\n",
      "2loop\n",
      "Feature:Pclass Its best_gain:0.231485333579 best_criteria:('Pclass', array([1, 3, 2]))\n",
      "Feature:Parch Its best_gain:0.231485333579 best_criteria:('Pclass', array([1, 3, 2]))\n",
      "best_gain:0.231485333579 best_criteria:('Pclass', array([1, 3, 2]))\n",
      "['Parch']\n",
      "1loop\n",
      "Feature:Parch Its best_gain:0.040411973749 best_criteria:('Parch', array([0, 2, 1]))\n",
      "best_gain:0.040411973749 best_criteria:('Parch', array([0, 2, 1]))\n",
      "[]\n",
      "1loop\n",
      "[]\n",
      "2loop\n",
      "[]\n",
      "3loop\n",
      "[]\n",
      "['0Parch']\n",
      "2loop\n",
      "Feature:Parch Its best_gain:0.0189473465243 best_criteria:('Parch', 6)\n",
      "best_gain:0.0189473465243 best_criteria:('Parch', 6)\n",
      "[]\n",
      "1loop\n",
      "[]\n",
      "2loop\n",
      "[]\n",
      "['1Parch']\n",
      "3loop\n",
      "Feature:Parch Its best_gain:0.00334442736933 best_criteria:('Parch', 3)\n",
      "best_gain:0.00334442736933 best_criteria:('Parch', 3)\n",
      "[]\n",
      "1loop\n",
      "[]\n",
      "2loop\n",
      "[]\n",
      "['2Parch']\n",
      "['1Pclass' '1Parch']\n",
      "['0Pclass' '0Sex' '0Parch']\n",
      "2loop\n",
      "Feature:Pclass Its best_gain:0.0269274288893 best_criteria:('Pclass', array([3, 1]))\n",
      "Feature:Sex Its best_gain:0.0269274288893 best_criteria:('Pclass', array([3, 1]))\n",
      "Feature:Parch Its best_gain:0.0269274288893 best_criteria:('Pclass', array([3, 1]))\n",
      "best_gain:0.0269274288893 best_criteria:('Pclass', array([3, 1]))\n",
      "['Sex' 'Parch']\n",
      "1loop\n",
      "Feature:Sex Its best_gain:0.0109446122922 best_criteria:('Sex', array([0, 1]))\n",
      "Feature:Parch Its best_gain:0.0109446122922 best_criteria:('Sex', array([0, 1]))\n",
      "best_gain:0.0109446122922 best_criteria:('Sex', array([0, 1]))\n",
      "['Parch']\n",
      "1loop\n",
      "Feature:Parch Its best_gain:0.0 best_criteria:None\n",
      "best_gain:0.0 best_criteria:None\n",
      "['0Parch']\n",
      "2loop\n",
      "Feature:Parch Its best_gain:0.0 best_criteria:None\n",
      "best_gain:0.0 best_criteria:None\n",
      "['1Parch']\n",
      "['0Sex' '0Parch']\n",
      "2loop\n",
      "Feature:Sex Its best_gain:0.0 best_criteria:None\n",
      "Feature:Parch Its best_gain:0.0 best_criteria:None\n",
      "best_gain:0.0 best_criteria:None\n",
      "['1Sex' '1Parch']\n",
      "['1Pclass' '1Sex' '1Parch']\n",
      "['0Pclass' '0Sex' '0Fare' '0Parch']\n",
      "2loop\n",
      "Feature:Pclass Its best_gain:0.0 best_criteria:None\n",
      "Feature:Sex Its best_gain:0.0 best_criteria:None\n",
      "Feature:Fare Its best_gain:0.0 best_criteria:None\n",
      "Feature:Parch Its best_gain:0.0 best_criteria:None\n",
      "best_gain:0.0 best_criteria:None\n",
      "['1Pclass' '1Sex' '1Fare' '1Parch']\n"
     ]
    }
   ],
   "source": [
    "tree = buildtree(df, features)"
   ]
  },
  {
   "cell_type": "code",
   "execution_count": 277,
   "metadata": {
    "collapsed": false
   },
   "outputs": [
    {
     "data": {
      "text/plain": [
       "0"
      ]
     },
     "execution_count": 277,
     "metadata": {},
     "output_type": "execute_result"
    }
   ],
   "source": [
    "len([])"
   ]
  },
  {
   "cell_type": "code",
   "execution_count": 121,
   "metadata": {
    "collapsed": false
   },
   "outputs": [
    {
     "data": {
      "text/plain": [
       "173"
      ]
     },
     "execution_count": 121,
     "metadata": {},
     "output_type": "execute_result"
    }
   ],
   "source": [
    "len(divideset(df, 'Pclass', 0)[2])"
   ]
  },
  {
   "cell_type": "code",
   "execution_count": null,
   "metadata": {
    "collapsed": true
   },
   "outputs": [],
   "source": []
  }
 ],
 "metadata": {
  "kernelspec": {
   "display_name": "Python 2",
   "language": "python",
   "name": "python2"
  },
  "language_info": {
   "codemirror_mode": {
    "name": "ipython",
    "version": 2
   },
   "file_extension": ".py",
   "mimetype": "text/x-python",
   "name": "python",
   "nbconvert_exporter": "python",
   "pygments_lexer": "ipython2",
   "version": "2.7.11"
  }
 },
 "nbformat": 4,
 "nbformat_minor": 0
}
