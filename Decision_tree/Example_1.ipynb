{
 "cells": [
  {
   "cell_type": "markdown",
   "metadata": {},
   "source": [
    "# Building a decision tree from scratch - a beginner tutorial\n",
    "- 在这个例子中, 使用了numpy, pandas\n",
    "- 可以更之前的例子比较, 简化了一些."
   ]
  },
  {
   "cell_type": "code",
   "execution_count": 2,
   "metadata": {
    "collapsed": true
   },
   "outputs": [],
   "source": [
    "import numpy as np\n",
    "import pandas as pd"
   ]
  },
  {
   "cell_type": "code",
   "execution_count": 83,
   "metadata": {
    "collapsed": true
   },
   "outputs": [],
   "source": [
    "my_data=[['slashdot','USA','yes',18,'None'],\n",
    "        ['google','France','yes',23,'Premium'],\n",
    "        ['digg','USA','yes',24,'Basic'],\n",
    "        ['kiwitobes','France','yes',23,'Basic'],\n",
    "        ['google','UK','no',21,'Premium'],\n",
    "        ['(direct)','New Zealand','no',12,'None'],\n",
    "        ['(direct)','UK','no',21,'Basic'],\n",
    "        ['google','USA','no',24,'Premium'],\n",
    "        ['slashdot','France','yes',19,'None'],\n",
    "        ['digg','USA','no',18,'None'],\n",
    "        ['google','UK','no',18,'None'],\n",
    "        ['kiwitobes','UK','no',19,'None'],\n",
    "        ['digg','New Zealand','yes',12,'Basic'],\n",
    "        ['slashdot','UK','no',21,'None'],\n",
    "        ['google','UK','yes',18,'Basic'],\n",
    "        ['kiwitobes','France','yes',19,'Basic']]"
   ]
  },
  {
   "cell_type": "code",
   "execution_count": 84,
   "metadata": {
    "collapsed": true
   },
   "outputs": [],
   "source": [
    "df = pd.DataFrame(my_data)"
   ]
  },
  {
   "cell_type": "code",
   "execution_count": 85,
   "metadata": {
    "collapsed": false
   },
   "outputs": [],
   "source": [
    "df = df.rename(columns = {0:'Referer', 1:'Country', 2:'Read', 3:'Visit', 4:'Subscription'})"
   ]
  },
  {
   "cell_type": "code",
   "execution_count": 86,
   "metadata": {
    "collapsed": false
   },
   "outputs": [],
   "source": [
    "# define nodes class\n",
    "class decisionnode:\n",
    "    def __init__(self,col=-1,value=None,results=None,tb=None,fb=None):\n",
    "        self.col=col\n",
    "        self.value=value\n",
    "        self.results=results\n",
    "        self.tb=tb\n",
    "        self.fb=fb"
   ]
  },
  {
   "cell_type": "code",
   "execution_count": 87,
   "metadata": {
    "collapsed": true
   },
   "outputs": [],
   "source": [
    "def divideset(df, column, value):\n",
    "    \"\"\"according value to divide sets into two parts\n",
    "    \"\"\"\n",
    "    if isinstance(value,int) or isinstance(value,float):\n",
    "        set1 = df[df[column] >= value]\n",
    "        set2 = df[df[column] < value]\n",
    "    else:\n",
    "        set1 = df[df[column] == value]\n",
    "        set2 = df[df[column] != value]\n",
    "    return (set1,set2)"
   ]
  },
  {
   "cell_type": "code",
   "execution_count": 88,
   "metadata": {
    "collapsed": false
   },
   "outputs": [],
   "source": [
    "def uniquecounts(df, column='Subscription'):\n",
    "    '''count the different class \n",
    "    '''\n",
    "    results = {}\n",
    "    results_list = df[column].unique()\n",
    "    for item in results_list:\n",
    "        results[item] = len(df[df[column] == item])\n",
    "    return results"
   ]
  },
  {
   "cell_type": "code",
   "execution_count": 89,
   "metadata": {
    "collapsed": false
   },
   "outputs": [
    {
     "data": {
      "text/plain": [
       "{'Basic': 6, 'None': 7, 'Premium': 3}"
      ]
     },
     "execution_count": 89,
     "metadata": {},
     "output_type": "execute_result"
    }
   ],
   "source": [
    "uniquecounts(df, 'Subscription')"
   ]
  },
  {
   "cell_type": "code",
   "execution_count": 90,
   "metadata": {
    "collapsed": false
   },
   "outputs": [
    {
     "data": {
      "text/plain": [
       "{'Basic': 3, 'None': 1, 'Premium': 3}"
      ]
     },
     "execution_count": 90,
     "metadata": {},
     "output_type": "execute_result"
    }
   ],
   "source": [
    "uniquecounts(divideset(df, 'Visit', 20)[0])"
   ]
  },
  {
   "cell_type": "code",
   "execution_count": 91,
   "metadata": {
    "collapsed": false
   },
   "outputs": [
    {
     "data": {
      "text/plain": [
       "{'Basic': 3, 'None': 6}"
      ]
     },
     "execution_count": 91,
     "metadata": {},
     "output_type": "execute_result"
    }
   ],
   "source": [
    "uniquecounts(divideset(df, 'Visit', 20)[1], 'Subscription')"
   ]
  },
  {
   "cell_type": "code",
   "execution_count": 92,
   "metadata": {
    "collapsed": true
   },
   "outputs": [],
   "source": [
    "def entropy(df, column='Subscription'):\n",
    "    '''calculate the entropy\n",
    "    '''\n",
    "    log2=lambda x:np.log(x)/np.log(2) \n",
    "    results=uniquecounts(df, column)\n",
    "    # Now calculate the entropy\n",
    "    ent=0.0\n",
    "    for r in results.keys():\n",
    "        p=float(results[r])/len(df)\n",
    "        ent=ent-p*log2(p)\n",
    "    return ent"
   ]
  },
  {
   "cell_type": "code",
   "execution_count": 93,
   "metadata": {
    "collapsed": false
   },
   "outputs": [
    {
     "data": {
      "text/plain": [
       "(1.4488156357251847, 0.91829583405448956)"
      ]
     },
     "execution_count": 93,
     "metadata": {},
     "output_type": "execute_result"
    }
   ],
   "source": [
    "df1, df2 = divideset(df, 'Visit', 20)\n",
    "entropy(df1, 'Subscription'), entropy(df2, 'Subscription')"
   ]
  },
  {
   "cell_type": "code",
   "execution_count": 94,
   "metadata": {
    "collapsed": false
   },
   "outputs": [
    {
     "data": {
      "text/plain": [
       "1.5052408149441479"
      ]
     },
     "execution_count": 94,
     "metadata": {},
     "output_type": "execute_result"
    }
   ],
   "source": [
    "entropy(df, 'Subscription')"
   ]
  },
  {
   "cell_type": "code",
   "execution_count": 95,
   "metadata": {
    "collapsed": true
   },
   "outputs": [],
   "source": [
    "class decisionnode:\n",
    "    def __init__(self, col='Subscription', value=None, results=None, tb=None, fb=None):\n",
    "        self.col = col\n",
    "        self.value = value\n",
    "        self.results = results\n",
    "        self.tb = tb\n",
    "        self.fb = fb"
   ]
  },
  {
   "cell_type": "code",
   "execution_count": 98,
   "metadata": {
    "collapsed": false
   },
   "outputs": [],
   "source": [
    "def buildtree(df, scoref=entropy, column='Subscription'):\n",
    "    \n",
    "    if len(df)==0: # check the items number of the set\n",
    "        return decisionnode() \n",
    "    current_score = scoref(df) # calculate the current entropy\n",
    "    \n",
    "    # initialization\n",
    "    best_gain = 0.0\n",
    "    best_criteria = None\n",
    "    best_sets = None\n",
    "  \n",
    "    columns = df.columns[0:-1] # pick up the features\n",
    "    \n",
    "    # calculate the best information gain\n",
    "    for col in columns:\n",
    "        global column_values        \n",
    "        column_values = df.loc[:, col].values            \n",
    "        for value in column_values: \n",
    "            (set1,set2) = divideset(df, col, value)\n",
    "      \n",
    "      # Information gain\n",
    "            p = float(len(set1))/len(df) #p is the size of a child set relative to its parent\n",
    "            gain = current_score - p*scoref(set1) - (1 - p)*scoref(set2) #cf. formula information gain\n",
    "            if gain > best_gain and len(set1) > 0 and len(set2) > 0: #set must not be empty\n",
    "                best_gain = gain\n",
    "                best_criteria = (col,value)\n",
    "                best_sets = (set1,set2)\n",
    "        \n",
    "    if best_gain > 0:\n",
    "        trueBranch = buildtree(best_sets[0])\n",
    "        falseBranch = buildtree(best_sets[1])\n",
    "        return decisionnode(col=best_criteria[0], value=best_criteria[1],\n",
    "                        tb=trueBranch, fb=falseBranch)\n",
    "    else:\n",
    "        return decisionnode(results=uniquecounts(df))"
   ]
  },
  {
   "cell_type": "code",
   "execution_count": 99,
   "metadata": {
    "collapsed": false
   },
   "outputs": [],
   "source": [
    "tree = buildtree(df)"
   ]
  },
  {
   "cell_type": "code",
   "execution_count": 100,
   "metadata": {
    "collapsed": false
   },
   "outputs": [
    {
     "name": "stdout",
     "output_type": "stream",
     "text": [
      "Referer\n",
      "google\n",
      "None\n",
      "\n",
      "Visit\n",
      "21\n",
      "None\n",
      "\n",
      "Subscription\n",
      "None\n",
      "{'Premium': 3}\n",
      "\n",
      "Read\n",
      "no\n",
      "None\n"
     ]
    }
   ],
   "source": [
    "print(tree.col)\n",
    "print(tree.value)\n",
    "print(tree.value)\n",
    "print(\"\")\n",
    "print(tree.tb.col)\n",
    "print(tree.tb.value)\n",
    "print(tree.tb.results)\n",
    "print(\"\")\n",
    "print(tree.tb.tb.col)\n",
    "print(tree.tb.tb.value)\n",
    "print(tree.tb.tb.results)\n",
    "print(\"\")\n",
    "print(tree.tb.fb.col)\n",
    "print(tree.tb.fb.value)\n",
    "print(tree.tb.fb.results)"
   ]
  },
  {
   "cell_type": "code",
   "execution_count": 108,
   "metadata": {
    "collapsed": false
   },
   "outputs": [],
   "source": [
    "def printtree(tree,indent=''):\n",
    "    if tree.results!=None:\n",
    "        print str(tree.results)\n",
    "    else:\n",
    "\n",
    "        print str(tree.col)+':'+str(tree.value)+'? '\n",
    "\n",
    "\n",
    "        print indent+'T->',\n",
    "        printtree(tree.tb,indent+'  ')\n",
    "        print indent+'F->',\n",
    "        printtree(tree.fb,indent+'  ')"
   ]
  },
  {
   "cell_type": "code",
   "execution_count": 109,
   "metadata": {
    "collapsed": false
   },
   "outputs": [
    {
     "name": "stdout",
     "output_type": "stream",
     "text": [
      "Referer:google? \n",
      "T-> Visit:21? \n",
      "  T-> {'Premium': 3}\n",
      "  F-> Read:no? \n",
      "    T-> {'None': 1}\n",
      "    F-> {'Basic': 1}\n",
      "F-> Referer:slashdot? \n",
      "  T-> {'None': 3}\n",
      "  F-> Read:yes? \n",
      "    T-> {'Basic': 4}\n",
      "    F-> Visit:21? \n",
      "      T-> {'Basic': 1}\n",
      "      F-> {'None': 3}\n"
     ]
    }
   ],
   "source": [
    "printtree(tree)"
   ]
  },
  {
   "cell_type": "code",
   "execution_count": null,
   "metadata": {
    "collapsed": true
   },
   "outputs": [],
   "source": []
  }
 ],
 "metadata": {
  "kernelspec": {
   "display_name": "Python 2",
   "language": "python",
   "name": "python2"
  },
  "language_info": {
   "codemirror_mode": {
    "name": "ipython",
    "version": 2
   },
   "file_extension": ".py",
   "mimetype": "text/x-python",
   "name": "python",
   "nbconvert_exporter": "python",
   "pygments_lexer": "ipython2",
   "version": "2.7.11"
  }
 },
 "nbformat": 4,
 "nbformat_minor": 0
}
