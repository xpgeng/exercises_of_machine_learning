{
 "cells": [
  {
   "cell_type": "code",
   "execution_count": 1,
   "metadata": {
    "collapsed": false
   },
   "outputs": [
    {
     "name": "stderr",
     "output_type": "stream",
     "text": [
      "/Users/xpgeng/anaconda/lib/python2.7/site-packages/matplotlib/font_manager.py:273: UserWarning: Matplotlib is building the font cache using fc-list. This may take a moment.\n",
      "  warnings.warn('Matplotlib is building the font cache using fc-list. This may take a moment.')\n"
     ]
    }
   ],
   "source": [
    "import numpy as np\n",
    "import pandas as pd\n",
    "import matplotlib.pyplot as plt\n",
    "import seaborn as sns\n",
    "%matplotlib inline"
   ]
  },
  {
   "cell_type": "markdown",
   "metadata": {},
   "source": [
    "# The Example of Machine Learning in Action"
   ]
  },
  {
   "cell_type": "code",
   "execution_count": 268,
   "metadata": {
    "collapsed": true
   },
   "outputs": [],
   "source": [
    "def Ent(df, feature):\n",
    "    '''Parameters: \n",
    "            df: dataframe\n",
    "            feature: the column index\n",
    "       return: entropy\n",
    "    '''\n",
    "    entropy = 0\n",
    "    p = 0\n",
    "    items = df.loc[:, feature].unique()\n",
    "    for item in items:\n",
    "        p = float(len(df[df[feature] == item]))/len(df)\n",
    "        entropy += -p*(np.log(p)/np.log(2))\n",
    "    return entropy"
   ]
  },
  {
   "cell_type": "code",
   "execution_count": 269,
   "metadata": {
    "collapsed": false
   },
   "outputs": [],
   "source": [
    "df = pd.DataFrame({'No_surfacing': [1,1,1,0,0], 'Flippers': [1,1,0,1,1], 'Class': [1,1,0,0,0]})"
   ]
  },
  {
   "cell_type": "code",
   "execution_count": 270,
   "metadata": {
    "collapsed": false
   },
   "outputs": [
    {
     "data": {
      "text/html": [
       "<div>\n",
       "<table border=\"1\" class=\"dataframe\">\n",
       "  <thead>\n",
       "    <tr style=\"text-align: right;\">\n",
       "      <th></th>\n",
       "      <th>Class</th>\n",
       "      <th>Flippers</th>\n",
       "      <th>No_surfacing</th>\n",
       "    </tr>\n",
       "  </thead>\n",
       "  <tbody>\n",
       "    <tr>\n",
       "      <th>0</th>\n",
       "      <td>1</td>\n",
       "      <td>1</td>\n",
       "      <td>1</td>\n",
       "    </tr>\n",
       "    <tr>\n",
       "      <th>1</th>\n",
       "      <td>1</td>\n",
       "      <td>1</td>\n",
       "      <td>1</td>\n",
       "    </tr>\n",
       "    <tr>\n",
       "      <th>2</th>\n",
       "      <td>0</td>\n",
       "      <td>0</td>\n",
       "      <td>1</td>\n",
       "    </tr>\n",
       "    <tr>\n",
       "      <th>3</th>\n",
       "      <td>0</td>\n",
       "      <td>1</td>\n",
       "      <td>0</td>\n",
       "    </tr>\n",
       "    <tr>\n",
       "      <th>4</th>\n",
       "      <td>0</td>\n",
       "      <td>1</td>\n",
       "      <td>0</td>\n",
       "    </tr>\n",
       "  </tbody>\n",
       "</table>\n",
       "</div>"
      ],
      "text/plain": [
       "   Class  Flippers  No_surfacing\n",
       "0      1         1             1\n",
       "1      1         1             1\n",
       "2      0         0             1\n",
       "3      0         1             0\n",
       "4      0         1             0"
      ]
     },
     "execution_count": 270,
     "metadata": {},
     "output_type": "execute_result"
    }
   ],
   "source": [
    "df"
   ]
  },
  {
   "cell_type": "code",
   "execution_count": 271,
   "metadata": {
    "collapsed": false
   },
   "outputs": [
    {
     "data": {
      "text/plain": [
       "0.97095059445466858"
      ]
     },
     "execution_count": 271,
     "metadata": {},
     "output_type": "execute_result"
    }
   ],
   "source": [
    "Ent(df,'Class')"
   ]
  },
  {
   "cell_type": "code",
   "execution_count": 272,
   "metadata": {
    "collapsed": true
   },
   "outputs": [],
   "source": [
    "def splitDataset(df, feature, value):\n",
    "    '''parameters:\n",
    "            df: dataframe\n",
    "            feature: column index\n",
    "            value: column value\n",
    "       return:\n",
    "            df1: dataframe, a subset of df\n",
    "    '''\n",
    "    df1 = df[df[feature] == value].drop(feature, 1)\n",
    "    return df1 "
   ]
  },
  {
   "cell_type": "code",
   "execution_count": 273,
   "metadata": {
    "collapsed": false
   },
   "outputs": [],
   "source": [
    "def splitDataset_by_IG(df):\n",
    "    '''parameter:\n",
    "           df: dataframe\n",
    "       returns:\n",
    "           bestIG: the biggest IG\n",
    "           bestFeature: according the bestIG\n",
    "           bestsubset: according the bestIG\n",
    "    '''\n",
    "    features = df.columns[1:]\n",
    "    print 'features:'+features\n",
    "    values = []\n",
    "    baseEntropy = Ent(df, 'Class')\n",
    "    bestIG = 0.0\n",
    "    bestFeature = None\n",
    "    \n",
    "    for feature in features:\n",
    "        values = df[feature].unique()\n",
    "        NewEntropy = 0.0\n",
    "        for value in values:\n",
    "            print 'the values use to split:'+str(value)\n",
    "            subset = splitDataset(df, feature, value)\n",
    "            p = float(float(len(subset))/len(df))\n",
    "            NewEntropy += p*Ent(subset, 'Class')\n",
    "        IG = baseEntropy - NewEntropy\n",
    "        if IG > bestIG :\n",
    "            bestIG = IG\n",
    "            bestFeature = feature\n",
    "            bestSubset = subset\n",
    "    return bestIG, bestFeature, bestSubset\n",
    "        "
   ]
  },
  {
   "cell_type": "code",
   "execution_count": 274,
   "metadata": {
    "collapsed": true
   },
   "outputs": [],
   "source": [
    "def majorityChoice(df, feature='Class'):\n",
    "    '''\n",
    "    parameters:\n",
    "           df: dataframe\n",
    "           feature: 'Class'\n",
    "    return:\n",
    "           class value\n",
    "    '''\n",
    "    classcount = df[feature].value_counts().sort_index()\n",
    "    if classcount[0] >= classcount[1]:\n",
    "        return classcount.index.values[0]\n",
    "    else:\n",
    "        return classcount.index.values[1]"
   ]
  },
  {
   "cell_type": "code",
   "execution_count": 263,
   "metadata": {
    "collapsed": false
   },
   "outputs": [],
   "source": [
    "def createTree(df):\n",
    "    ''''''\n",
    "    classList = df['Class']\n",
    "    if len(classList.unique()) == 1:\n",
    "        return classList.values[0]\n",
    "    if len(df.columns) == 1:\n",
    "        return majorityChoice(df, 'Class')\n",
    "    bestIG, bestFeature, bestSubset = splitDataset_by_IG(df)\n",
    "    myTree = {bestFeature:{}}\n",
    "    uniqueValues = df[bestFeature].unique()\n",
    "    for value in uniqueValues:\n",
    "        myTree[bestFeature][value] = createTree(splitDataset(df, bestFeature, value))\n",
    "    return myTree\n",
    "    \n",
    "    "
   ]
  },
  {
   "cell_type": "code",
   "execution_count": 264,
   "metadata": {
    "collapsed": false
   },
   "outputs": [
    {
     "name": "stdout",
     "output_type": "stream",
     "text": [
      "Index([u'features:Flippers', u'features:No_surfacing'], dtype='object')\n",
      "the values use to split:1\n",
      "the values use to split:0\n",
      "the values use to split:1\n",
      "the values use to split:0\n",
      "No_surfacing1\n",
      "Index([u'features:Flippers'], dtype='object')\n",
      "the values use to split:1\n",
      "the values use to split:0\n",
      "Flippers1\n",
      "M1\n",
      "bestFeature:Flippers\n",
      "Flippers0\n",
      "M0\n",
      "bestFeature:Flippers\n",
      "M{'Flippers': {0: 0, 1: 1}}\n",
      "bestFeature:No_surfacing\n",
      "No_surfacing0\n",
      "M0\n",
      "bestFeature:No_surfacing\n"
     ]
    }
   ],
   "source": [
    "myTree = createTree(df)"
   ]
  },
  {
   "cell_type": "code",
   "execution_count": 265,
   "metadata": {
    "collapsed": false
   },
   "outputs": [
    {
     "data": {
      "text/plain": [
       "{'No_surfacing': {0: 0, 1: {'Flippers': {0: 0, 1: 1}}}}"
      ]
     },
     "execution_count": 265,
     "metadata": {},
     "output_type": "execute_result"
    }
   ],
   "source": [
    "myTree"
   ]
  },
  {
   "cell_type": "markdown",
   "metadata": {},
   "source": [
    "## 总结\n",
    "- 写Decision Tree需要这样几个函数\n",
    "    - 依据特征及其所取值划分集合\n",
    "    - 计算Information Gain, 并依据IG选取最优特征及集合划分.\n",
    "    - 判定叶结点所属类别\n",
    "    - 主函数: recursivly生成Tree.\n",
    "        - 这里需要注意的是: 树的生成要跟自己所属的节点对应上.\n",
    "        - 终止条件:\n",
    "            - 属性用完\n",
    "            - 所有实例属于同一类\n",
    "        "
   ]
  },
  {
   "cell_type": "code",
   "execution_count": null,
   "metadata": {
    "collapsed": true
   },
   "outputs": [],
   "source": []
  }
 ],
 "metadata": {
  "kernelspec": {
   "display_name": "Python 2",
   "language": "python",
   "name": "python2"
  },
  "language_info": {
   "codemirror_mode": {
    "name": "ipython",
    "version": 2
   },
   "file_extension": ".py",
   "mimetype": "text/x-python",
   "name": "python",
   "nbconvert_exporter": "python",
   "pygments_lexer": "ipython2",
   "version": "2.7.11"
  }
 },
 "nbformat": 4,
 "nbformat_minor": 0
}
