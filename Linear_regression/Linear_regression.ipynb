{
 "cells": [
  {
   "cell_type": "code",
   "execution_count": 1,
   "metadata": {
    "collapsed": false
   },
   "outputs": [
    {
     "name": "stderr",
     "output_type": "stream",
     "text": [
      "/Users/xpgeng/anaconda/lib/python2.7/site-packages/matplotlib/font_manager.py:273: UserWarning: Matplotlib is building the font cache using fc-list. This may take a moment.\n",
      "  warnings.warn('Matplotlib is building the font cache using fc-list. This may take a moment.')\n"
     ]
    }
   ],
   "source": [
    "# -*- coding: utf-8 -*-\n",
    "import numpy as np\n",
    "import pandas as pd\n",
    "import matplotlib.pyplot as plt\n",
    "from scipy import stats\n",
    "from numpy.linalg import inv, qr, svd, solve, lstsq\n",
    "import seaborn as sns\n",
    "%matplotlib inline"
   ]
  },
  {
   "cell_type": "code",
   "execution_count": 2,
   "metadata": {
    "collapsed": true
   },
   "outputs": [],
   "source": [
    "df = pd.read_csv('data.csv')"
   ]
  },
  {
   "cell_type": "code",
   "execution_count": 3,
   "metadata": {
    "collapsed": false,
    "scrolled": false
   },
   "outputs": [
    {
     "data": {
      "text/html": [
       "<div>\n",
       "<table border=\"1\" class=\"dataframe\">\n",
       "  <thead>\n",
       "    <tr style=\"text-align: right;\">\n",
       "      <th></th>\n",
       "      <th>x1</th>\n",
       "      <th>x2</th>\n",
       "      <th>x3</th>\n",
       "      <th>y</th>\n",
       "    </tr>\n",
       "  </thead>\n",
       "  <tbody>\n",
       "    <tr>\n",
       "      <th>0</th>\n",
       "      <td>0.511942</td>\n",
       "      <td>0.412118</td>\n",
       "      <td>0.540302</td>\n",
       "      <td>3.135134</td>\n",
       "    </tr>\n",
       "    <tr>\n",
       "      <th>1</th>\n",
       "      <td>-0.385495</td>\n",
       "      <td>-0.756802</td>\n",
       "      <td>0.753902</td>\n",
       "      <td>1.189656</td>\n",
       "    </tr>\n",
       "    <tr>\n",
       "      <th>2</th>\n",
       "      <td>-0.016638</td>\n",
       "      <td>0.989358</td>\n",
       "      <td>0.540302</td>\n",
       "      <td>2.404029</td>\n",
       "    </tr>\n",
       "    <tr>\n",
       "      <th>3</th>\n",
       "      <td>0.786973</td>\n",
       "      <td>0.141120</td>\n",
       "      <td>1.000000</td>\n",
       "      <td>6.359970</td>\n",
       "    </tr>\n",
       "    <tr>\n",
       "      <th>4</th>\n",
       "      <td>0.395976</td>\n",
       "      <td>0.656987</td>\n",
       "      <td>0.540302</td>\n",
       "      <td>2.882558</td>\n",
       "    </tr>\n",
       "  </tbody>\n",
       "</table>\n",
       "</div>"
      ],
      "text/plain": [
       "         x1        x2        x3         y\n",
       "0  0.511942  0.412118  0.540302  3.135134\n",
       "1 -0.385495 -0.756802  0.753902  1.189656\n",
       "2 -0.016638  0.989358  0.540302  2.404029\n",
       "3  0.786973  0.141120  1.000000  6.359970\n",
       "4  0.395976  0.656987  0.540302  2.882558"
      ]
     },
     "execution_count": 3,
     "metadata": {},
     "output_type": "execute_result"
    }
   ],
   "source": [
    "df.head()"
   ]
  },
  {
   "cell_type": "code",
   "execution_count": 4,
   "metadata": {
    "collapsed": false
   },
   "outputs": [
    {
     "data": {
      "text/html": [
       "<div>\n",
       "<table border=\"1\" class=\"dataframe\">\n",
       "  <thead>\n",
       "    <tr style=\"text-align: right;\">\n",
       "      <th></th>\n",
       "      <th>x1</th>\n",
       "      <th>x2</th>\n",
       "      <th>x3</th>\n",
       "      <th>y</th>\n",
       "    </tr>\n",
       "  </thead>\n",
       "  <tbody>\n",
       "    <tr>\n",
       "      <th>count</th>\n",
       "      <td>1000.000000</td>\n",
       "      <td>1000.000000</td>\n",
       "      <td>1000.000000</td>\n",
       "      <td>1000.000000</td>\n",
       "    </tr>\n",
       "    <tr>\n",
       "      <th>mean</th>\n",
       "      <td>0.030942</td>\n",
       "      <td>0.196471</td>\n",
       "      <td>0.059228</td>\n",
       "      <td>2.073943</td>\n",
       "    </tr>\n",
       "    <tr>\n",
       "      <th>std</th>\n",
       "      <td>1.024607</td>\n",
       "      <td>0.656093</td>\n",
       "      <td>0.722516</td>\n",
       "      <td>3.700031</td>\n",
       "    </tr>\n",
       "    <tr>\n",
       "      <th>min</th>\n",
       "      <td>-3.026895</td>\n",
       "      <td>-0.958924</td>\n",
       "      <td>-0.989992</td>\n",
       "      <td>-8.108243</td>\n",
       "    </tr>\n",
       "    <tr>\n",
       "      <th>25%</th>\n",
       "      <td>-0.646609</td>\n",
       "      <td>-0.279415</td>\n",
       "      <td>-0.653644</td>\n",
       "      <td>-0.418985</td>\n",
       "    </tr>\n",
       "    <tr>\n",
       "      <th>50%</th>\n",
       "      <td>0.018040</td>\n",
       "      <td>0.412118</td>\n",
       "      <td>0.283662</td>\n",
       "      <td>2.094814</td>\n",
       "    </tr>\n",
       "    <tr>\n",
       "      <th>75%</th>\n",
       "      <td>0.678942</td>\n",
       "      <td>0.841471</td>\n",
       "      <td>0.753902</td>\n",
       "      <td>4.745579</td>\n",
       "    </tr>\n",
       "    <tr>\n",
       "      <th>max</th>\n",
       "      <td>3.862828</td>\n",
       "      <td>0.989358</td>\n",
       "      <td>1.000000</td>\n",
       "      <td>12.421685</td>\n",
       "    </tr>\n",
       "  </tbody>\n",
       "</table>\n",
       "</div>"
      ],
      "text/plain": [
       "                x1           x2           x3            y\n",
       "count  1000.000000  1000.000000  1000.000000  1000.000000\n",
       "mean      0.030942     0.196471     0.059228     2.073943\n",
       "std       1.024607     0.656093     0.722516     3.700031\n",
       "min      -3.026895    -0.958924    -0.989992    -8.108243\n",
       "25%      -0.646609    -0.279415    -0.653644    -0.418985\n",
       "50%       0.018040     0.412118     0.283662     2.094814\n",
       "75%       0.678942     0.841471     0.753902     4.745579\n",
       "max       3.862828     0.989358     1.000000    12.421685"
      ]
     },
     "execution_count": 4,
     "metadata": {},
     "output_type": "execute_result"
    }
   ],
   "source": [
    "df.describe()"
   ]
  },
  {
   "cell_type": "markdown",
   "metadata": {},
   "source": [
    "## linear regression\n",
    "### 解析式直接求解"
   ]
  },
  {
   "cell_type": "code",
   "execution_count": 5,
   "metadata": {
    "collapsed": false
   },
   "outputs": [],
   "source": [
    "df['x4'] = 1"
   ]
  },
  {
   "cell_type": "code",
   "execution_count": 6,
   "metadata": {
    "collapsed": false
   },
   "outputs": [],
   "source": [
    "X = df.iloc[:,(0,1,2,4)].values"
   ]
  },
  {
   "cell_type": "code",
   "execution_count": 7,
   "metadata": {
    "collapsed": true
   },
   "outputs": [],
   "source": [
    "y = df.y.values"
   ]
  },
  {
   "cell_type": "markdown",
   "metadata": {},
   "source": [
    "$y = Xw$  \n",
    "$ w = (X^T*X)^[-1]*X^T*y$"
   ]
  },
  {
   "cell_type": "code",
   "execution_count": 8,
   "metadata": {
    "collapsed": false
   },
   "outputs": [],
   "source": [
    "inv_XX_T = inv(X.T.dot(X))"
   ]
  },
  {
   "cell_type": "code",
   "execution_count": 9,
   "metadata": {
    "collapsed": false
   },
   "outputs": [],
   "source": [
    "w = inv_XX_T.dot(X.T).dot(df.y.values)"
   ]
  },
  {
   "cell_type": "code",
   "execution_count": 10,
   "metadata": {
    "collapsed": false,
    "scrolled": true
   },
   "outputs": [
    {
     "data": {
      "text/plain": [
       "array([ 2.97396653, -0.54139002,  0.97132913,  2.03076198])"
      ]
     },
     "execution_count": 10,
     "metadata": {},
     "output_type": "execute_result"
    }
   ],
   "source": [
    "w"
   ]
  },
  {
   "cell_type": "markdown",
   "metadata": {},
   "source": [
    "## Results\n",
    "w1 = 2.97396653  \n",
    "w2 = -0.54139002  \n",
    "w3 = 0.97132913  \n",
    "b = 2.03076198"
   ]
  },
  {
   "cell_type": "code",
   "execution_count": 11,
   "metadata": {
    "collapsed": false,
    "scrolled": true
   },
   "outputs": [
    {
     "data": {
      "text/plain": [
       "(array([[-0.99932291, -0.02064871, -0.0030824 ,  0.03029612],\n",
       "        [ 0.02599347, -0.98046617,  0.03167325,  0.19237264],\n",
       "        [ 0.00526495, -0.02072455, -0.99808801,  0.05799222],\n",
       "        [ 0.02550186,  0.1944999 ,  0.05298706,  0.9791383 ]]),\n",
       " array([[ -9.54420192e-04,   7.38324873e-05,   1.32685044e-05,\n",
       "           3.97413182e-05],\n",
       "        [  0.00000000e+00,  -2.37176114e-03,  -1.12197714e-04,\n",
       "           6.67128272e-04],\n",
       "        [  0.00000000e+00,   0.00000000e+00,  -1.91987064e-03,\n",
       "           1.66696794e-04],\n",
       "        [  0.00000000e+00,   0.00000000e+00,   0.00000000e+00,\n",
       "           9.79138303e-04]]))"
      ]
     },
     "execution_count": 11,
     "metadata": {},
     "output_type": "execute_result"
    }
   ],
   "source": [
    "qr(inv_XX_T)"
   ]
  },
  {
   "cell_type": "code",
   "execution_count": 12,
   "metadata": {
    "collapsed": false
   },
   "outputs": [
    {
     "data": {
      "text/plain": [
       "(1000, 4)"
      ]
     },
     "execution_count": 12,
     "metadata": {},
     "output_type": "execute_result"
    }
   ],
   "source": [
    "X.shape"
   ]
  },
  {
   "cell_type": "code",
   "execution_count": 312,
   "metadata": {
    "collapsed": false
   },
   "outputs": [],
   "source": [
    "#solve(X,y)##只能解方阵"
   ]
  },
  {
   "cell_type": "markdown",
   "metadata": {},
   "source": [
    "## 梯度下降法求解\n",
    "- 目标函数选取要合适一些, 前边乘以适当的系数.\n",
    "- 注意检验梯度的计算是否正确..."
   ]
  },
  {
   "cell_type": "code",
   "execution_count": 118,
   "metadata": {
    "collapsed": false
   },
   "outputs": [],
   "source": [
    "def f(w,X,y):    \n",
    "    return ((X.dot(w)-y)**2/(2*1000)).sum()"
   ]
  },
  {
   "cell_type": "code",
   "execution_count": 119,
   "metadata": {
    "collapsed": true
   },
   "outputs": [],
   "source": [
    "def grad_f(w,X,y):\n",
    "    return  (X.dot(w) - y).dot(X)/1000"
   ]
  },
  {
   "cell_type": "code",
   "execution_count": 120,
   "metadata": {
    "collapsed": false
   },
   "outputs": [],
   "source": [
    "w0 = np.array([100.0,100.0,100.0,100.0])"
   ]
  },
  {
   "cell_type": "code",
   "execution_count": 121,
   "metadata": {
    "collapsed": false
   },
   "outputs": [],
   "source": [
    "epsilon = 1e-10"
   ]
  },
  {
   "cell_type": "code",
   "execution_count": 122,
   "metadata": {
    "collapsed": true
   },
   "outputs": [],
   "source": [
    "alpha = 0.1"
   ]
  },
  {
   "cell_type": "code",
   "execution_count": 123,
   "metadata": {
    "collapsed": true
   },
   "outputs": [],
   "source": [
    "check_condition = 1"
   ]
  },
  {
   "cell_type": "code",
   "execution_count": 243,
   "metadata": {
    "collapsed": false
   },
   "outputs": [
    {
     "name": "stdout",
     "output_type": "stream",
     "text": [
      "[ 2.97396671 -0.5414066   0.97132728  2.03076759]\n"
     ]
    }
   ],
   "source": [
    "while  check_condition > epsilon:\n",
    "    w0 += -alpha*grad_f(w0,X,y)\n",
    "    check_condition = abs(grad_f(w0,X,y)).sum()\n",
    "print w0"
   ]
  },
  {
   "cell_type": "markdown",
   "metadata": {},
   "source": [
    "## 随机梯度下降法求解\n",
    "- Stochastic gradient descent\n",
    "- 使用了固定步长\n",
    "    - 一开始用的0.1, 始终达不到给定的精度\n",
    "- 于是添加了判定条件用来更新步长."
   ]
  },
  {
   "cell_type": "code",
   "execution_count": 411,
   "metadata": {
    "collapsed": true
   },
   "outputs": [],
   "source": [
    "def cost_function(w,X,y):    \n",
    "    return (X.dot(w)-y)**2/2"
   ]
  },
  {
   "cell_type": "code",
   "execution_count": 412,
   "metadata": {
    "collapsed": true
   },
   "outputs": [],
   "source": [
    "def grad_cost_f(w,X,y):\n",
    "    return  (np.dot(X, w) - y)*X"
   ]
  },
  {
   "cell_type": "code",
   "execution_count": 462,
   "metadata": {
    "collapsed": true
   },
   "outputs": [],
   "source": [
    "w0 = np.array([1.0, 1.0, 1.0, 1.0])"
   ]
  },
  {
   "cell_type": "code",
   "execution_count": 477,
   "metadata": {
    "collapsed": true
   },
   "outputs": [],
   "source": [
    "epsilon = 1e-3"
   ]
  },
  {
   "cell_type": "code",
   "execution_count": 478,
   "metadata": {
    "collapsed": true
   },
   "outputs": [],
   "source": [
    "alpha = 0.01"
   ]
  },
  {
   "cell_type": "code",
   "execution_count": 479,
   "metadata": {
    "collapsed": false
   },
   "outputs": [],
   "source": [
    "# 生成随机index,用来随机索引数据.\n",
    "random_index = np.arange(1000)\n",
    "np.random.shuffle(random_index)"
   ]
  },
  {
   "cell_type": "code",
   "execution_count": 480,
   "metadata": {
    "collapsed": true
   },
   "outputs": [],
   "source": [
    "cost_value = np.inf #初始化目标函数值"
   ]
  },
  {
   "cell_type": "code",
   "execution_count": 481,
   "metadata": {
    "collapsed": false
   },
   "outputs": [
    {
     "name": "stdout",
     "output_type": "stream",
     "text": [
      "[ 2.97376767 -0.54075842  0.97217986  2.03067711]\n"
     ]
    }
   ],
   "source": [
    "while abs(grad_f(w0,X,y)).sum() > epsilon:\n",
    "    for i in range(1000):\n",
    "        w0 += -alpha*grad_cost_f(w0,X[random_index[i]],y[random_index[i]])\n",
    "    \n",
    "    #检查目标函数变化趋势, 如果趋势变化达到临界值, 更新更小的步长继续计算\n",
    "    difference = cost_value - f(w0, X, y) \n",
    "    if difference < 1e-10:\n",
    "        alpha *= 0.9\n",
    "    cost_value = f(w0, X, y)\n",
    "print w0"
   ]
  },
  {
   "cell_type": "code",
   "execution_count": null,
   "metadata": {
    "collapsed": true
   },
   "outputs": [],
   "source": []
  }
 ],
 "metadata": {
  "kernelspec": {
   "display_name": "Python 2",
   "language": "python",
   "name": "python2"
  },
  "language_info": {
   "codemirror_mode": {
    "name": "ipython",
    "version": 2
   },
   "file_extension": ".py",
   "mimetype": "text/x-python",
   "name": "python",
   "nbconvert_exporter": "python",
   "pygments_lexer": "ipython2",
   "version": "2.7.11"
  }
 },
 "nbformat": 4,
 "nbformat_minor": 0
}
