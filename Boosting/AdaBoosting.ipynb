{
 "cells": [
  {
   "cell_type": "markdown",
   "metadata": {},
   "source": [
    "# AdaBoosting"
   ]
  },
  {
   "cell_type": "code",
   "execution_count": 2,
   "metadata": {
    "collapsed": false
   },
   "outputs": [
    {
     "name": "stderr",
     "output_type": "stream",
     "text": [
      "/Users/xpgeng/anaconda/lib/python2.7/site-packages/matplotlib/font_manager.py:273: UserWarning: Matplotlib is building the font cache using fc-list. This may take a moment.\n",
      "  warnings.warn('Matplotlib is building the font cache using fc-list. This may take a moment.')\n"
     ]
    }
   ],
   "source": [
    "import numpy as np\n",
    "import pandas as pd\n",
    "import matplotlib.pyplot as plt"
   ]
  },
  {
   "cell_type": "markdown",
   "metadata": {},
   "source": [
    "## Load data"
   ]
  },
  {
   "cell_type": "code",
   "execution_count": 3,
   "metadata": {
    "collapsed": true
   },
   "outputs": [],
   "source": [
    "df = pd.DataFrame({'x1':[1., 2., 1.3, 1., 2.], 'x2': [2.1, 1.1, 1., 1., 1.], \n",
    "                   'Labels': [1.0, 1.0, -1.0, -1.0, 1.0]})"
   ]
  },
  {
   "cell_type": "code",
   "execution_count": 4,
   "metadata": {
    "collapsed": false
   },
   "outputs": [],
   "source": [
    "datMat = df.loc[:, ['x1', 'x2']].values"
   ]
  },
  {
   "cell_type": "code",
   "execution_count": 5,
   "metadata": {
    "collapsed": false
   },
   "outputs": [
    {
     "data": {
      "text/html": [
       "<div>\n",
       "<table border=\"1\" class=\"dataframe\">\n",
       "  <thead>\n",
       "    <tr style=\"text-align: right;\">\n",
       "      <th></th>\n",
       "      <th>Labels</th>\n",
       "      <th>x1</th>\n",
       "      <th>x2</th>\n",
       "    </tr>\n",
       "  </thead>\n",
       "  <tbody>\n",
       "    <tr>\n",
       "      <th>0</th>\n",
       "      <td>1.0</td>\n",
       "      <td>1.0</td>\n",
       "      <td>2.1</td>\n",
       "    </tr>\n",
       "    <tr>\n",
       "      <th>1</th>\n",
       "      <td>1.0</td>\n",
       "      <td>2.0</td>\n",
       "      <td>1.1</td>\n",
       "    </tr>\n",
       "    <tr>\n",
       "      <th>2</th>\n",
       "      <td>-1.0</td>\n",
       "      <td>1.3</td>\n",
       "      <td>1.0</td>\n",
       "    </tr>\n",
       "    <tr>\n",
       "      <th>3</th>\n",
       "      <td>-1.0</td>\n",
       "      <td>1.0</td>\n",
       "      <td>1.0</td>\n",
       "    </tr>\n",
       "    <tr>\n",
       "      <th>4</th>\n",
       "      <td>1.0</td>\n",
       "      <td>2.0</td>\n",
       "      <td>1.0</td>\n",
       "    </tr>\n",
       "  </tbody>\n",
       "</table>\n",
       "</div>"
      ],
      "text/plain": [
       "   Labels   x1   x2\n",
       "0     1.0  1.0  2.1\n",
       "1     1.0  2.0  1.1\n",
       "2    -1.0  1.3  1.0\n",
       "3    -1.0  1.0  1.0\n",
       "4     1.0  2.0  1.0"
      ]
     },
     "execution_count": 5,
     "metadata": {},
     "output_type": "execute_result"
    }
   ],
   "source": [
    "df"
   ]
  },
  {
   "cell_type": "code",
   "execution_count": 6,
   "metadata": {
    "collapsed": false
   },
   "outputs": [],
   "source": [
    "labels = df.Labels.values"
   ]
  },
  {
   "cell_type": "code",
   "execution_count": 7,
   "metadata": {
    "collapsed": true
   },
   "outputs": [],
   "source": [
    "def stumpClassify(dataMatrix, dimen, threshVal, threshIneq):\n",
    "    retArray = np.ones((np.shape(dataMatrix)[0], ))\n",
    "    if threshIneq == 'lt':\n",
    "        retArray[dataMatrix[:, dimen] <= threshVal] = -1.0\n",
    "    else:\n",
    "        retArray[dataMatrix[:, dimen] > threshVal] = -1.0\n",
    "    return retArray"
   ]
  },
  {
   "cell_type": "code",
   "execution_count": 8,
   "metadata": {
    "collapsed": true
   },
   "outputs": [],
   "source": [
    "def buildStump(dataMatrix, labels, D):\n",
    "    '''\n",
    "    '''\n",
    "    # Initial values\n",
    "    m, n = np.shape(dataMatrix)\n",
    "    numSteps = 10.0\n",
    "    bestStump = {}\n",
    "    bestClassEst = np.zeros((m, ))\n",
    "    minError = np.inf\n",
    "    \n",
    "    # for-loop about features\n",
    "    for i in range(n):\n",
    "        rangeMin = dataMatrix[:, i].min()\n",
    "        rangeMax = dataMatrix[:, i].max()\n",
    "        stepSize = (rangeMax - rangeMin)/numSteps\n",
    "        \n",
    "        # for-loop about steps\n",
    "        for j in range(-1, int(numSteps) + 1): # -1 means threshVal less than minVal\n",
    "            \n",
    "            # for-loop about inequality\n",
    "            for inequal in ['lt', 'gt']: # try both less than and greater than  to check the error\n",
    "                \n",
    "                threshVal = (rangeMin + float(j) * stepSize)\n",
    "                predictedVals = stumpClassify(dataMatrix, i, threshVal, inequal)\n",
    "                errArr = np.ones((m, ))\n",
    "                errArr[predictedVals == labels] = 0\n",
    "                weightedError = D.dot(errArr) # scalar value\n",
    "                # print \"split: dim %d, thresh %.2f, thresh ineqal: %s,\\\n",
    "                # the weighted error is %.3f\" % (i, threshVal, inequal, weightedError)\n",
    "                \n",
    "                if weightedError < minError:\n",
    "                    minError = weightedError\n",
    "                    bestClassEst = predictedVals.copy()\n",
    "                    bestStump['dim'] = i\n",
    "                    bestStump['thresh'] = threshVal\n",
    "                    bestStump['ineq'] = inequal\n",
    "    return bestStump, minError, bestClassEst"
   ]
  },
  {
   "cell_type": "code",
   "execution_count": 9,
   "metadata": {
    "collapsed": true
   },
   "outputs": [],
   "source": [
    "D = np.ones((5, ))/5."
   ]
  },
  {
   "cell_type": "code",
   "execution_count": 10,
   "metadata": {
    "collapsed": false
   },
   "outputs": [
    {
     "data": {
      "text/plain": [
       "({'dim': 0, 'ineq': 'lt', 'thresh': 1.3},\n",
       " 0.20000000000000001,\n",
       " array([-1.,  1., -1., -1.,  1.]))"
      ]
     },
     "execution_count": 10,
     "metadata": {},
     "output_type": "execute_result"
    }
   ],
   "source": [
    "buildStump(datMat, labels, D)"
   ]
  },
  {
   "cell_type": "code",
   "execution_count": 33,
   "metadata": {
    "collapsed": true
   },
   "outputs": [],
   "source": [
    "def adaBoostingTrainDS(datMat, labels, numIt=40):\n",
    "    weakClassArr = []\n",
    "    m = np.shape(datMat)[0]\n",
    "    D = np.ones((m, ))/m\n",
    "    aggClassEst = np.zeros((m, ))\n",
    "    for i in range(numIt):\n",
    "        bestStump, error, classEst = buildStump(datMat, labels, D)\n",
    "        # print \"D:\", D\n",
    "        alpha = float(0.5*np.log((1.0-error)/max(error, 1e-16)))\n",
    "        bestStump['alpha'] = alpha\n",
    "        weakClassArr.append(bestStump)\n",
    "        # print \"ClassEst: \", classEst\n",
    "        expon = -1*alpha*labels*classEst\n",
    "        D = D*np.exp(expon)\n",
    "        D = D/D.sum()\n",
    "        aggClassEst += alpha*classEst\n",
    "        # print \"aggClassEst: \", aggClassEst\n",
    "        aggErrors = (np.sign(aggClassEst) != labels) * np.ones((m, ))\n",
    "        errorRate = aggErrors.sum()/m\n",
    "        print \"total error:\", errorRate, \"\\n\"\n",
    "        if errorRate == 0.0:\n",
    "            break\n",
    "    # return weakClassArr # original return\n",
    "    return weakClassArr, aggClassEst # used for ROC"
   ]
  },
  {
   "cell_type": "code",
   "execution_count": 12,
   "metadata": {
    "collapsed": false
   },
   "outputs": [
    {
     "name": "stdout",
     "output_type": "stream",
     "text": [
      "total error: 0.2 \n",
      "\n",
      "total error: 0.2 \n",
      "\n",
      "total error: 0.0 \n",
      "\n"
     ]
    }
   ],
   "source": [
    "classifierArray = adaBoostingTrainDS(datMat, labels, 40)"
   ]
  },
  {
   "cell_type": "code",
   "execution_count": 13,
   "metadata": {
    "collapsed": false
   },
   "outputs": [
    {
     "data": {
      "text/plain": [
       "[{'alpha': 0.6931471805599453, 'dim': 0, 'ineq': 'lt', 'thresh': 1.3},\n",
       " {'alpha': 0.9729550745276565, 'dim': 1, 'ineq': 'lt', 'thresh': 1.0},\n",
       " {'alpha': 0.8958797346140273,\n",
       "  'dim': 0,\n",
       "  'ineq': 'lt',\n",
       "  'thresh': 0.90000000000000002}]"
      ]
     },
     "execution_count": 13,
     "metadata": {},
     "output_type": "execute_result"
    }
   ],
   "source": [
    "classifierArray"
   ]
  },
  {
   "cell_type": "markdown",
   "metadata": {},
   "source": [
    "## Test"
   ]
  },
  {
   "cell_type": "code",
   "execution_count": 14,
   "metadata": {
    "collapsed": true
   },
   "outputs": [],
   "source": [
    "def adaClassify(dataMatrix, classifierArr):\n",
    "    m = np.shape(dataMatrix)[0]\n",
    "    aggClassEst = np.zeros((m, ))\n",
    "    for i in range(len(classifierArray)):\n",
    "        classEst = stumpClassify(dataMatrix, classifierArray[i]['dim'],\n",
    "                                classifierArray[i]['thresh'], classifierArray[i]['ineq'])\n",
    "        aggClassEst += classifierArr[i]['alpha']*classEst\n",
    "        # print aggClassEst\n",
    "    return np.sign(aggClassEst)"
   ]
  },
  {
   "cell_type": "code",
   "execution_count": 15,
   "metadata": {
    "collapsed": true
   },
   "outputs": [],
   "source": [
    "test_datMat = np.array([[0., 0.]])"
   ]
  },
  {
   "cell_type": "code",
   "execution_count": 16,
   "metadata": {
    "collapsed": false
   },
   "outputs": [
    {
     "data": {
      "text/plain": [
       "array([-1.])"
      ]
     },
     "execution_count": 16,
     "metadata": {},
     "output_type": "execute_result"
    }
   ],
   "source": [
    "adaClassify(test_datMat, classifierArray)"
   ]
  },
  {
   "cell_type": "markdown",
   "metadata": {},
   "source": [
    "# Horse colic dataset using AdaBoosting"
   ]
  },
  {
   "cell_type": "code",
   "execution_count": 17,
   "metadata": {
    "collapsed": false
   },
   "outputs": [],
   "source": [
    "df_horse = pd.read_csv('Horse_colic_dataset/horseColicTraining2.txt', sep='\\t', names=np.arange(22))"
   ]
  },
  {
   "cell_type": "code",
   "execution_count": 18,
   "metadata": {
    "collapsed": false
   },
   "outputs": [],
   "source": [
    "datMat_horse = df_horse.values[:, 0: 21]"
   ]
  },
  {
   "cell_type": "code",
   "execution_count": 19,
   "metadata": {
    "collapsed": false
   },
   "outputs": [],
   "source": [
    "labels_horse = df_horse.values[:, -1]"
   ]
  },
  {
   "cell_type": "markdown",
   "metadata": {},
   "source": [
    "使用10个weak learner"
   ]
  },
  {
   "cell_type": "code",
   "execution_count": 20,
   "metadata": {
    "collapsed": false
   },
   "outputs": [
    {
     "name": "stdout",
     "output_type": "stream",
     "text": [
      "total error: 0.284280936455 \n",
      "\n",
      "total error: 0.284280936455 \n",
      "\n",
      "total error: 0.247491638796 \n",
      "\n",
      "total error: 0.247491638796 \n",
      "\n",
      "total error: 0.254180602007 \n",
      "\n",
      "total error: 0.240802675585 \n",
      "\n",
      "total error: 0.240802675585 \n",
      "\n",
      "total error: 0.220735785953 \n",
      "\n",
      "total error: 0.247491638796 \n",
      "\n",
      "total error: 0.230769230769 \n",
      "\n"
     ]
    }
   ],
   "source": [
    "classifierArray = adaBoostingTrainDS(datMat_horse, labels_horse, 10)"
   ]
  },
  {
   "cell_type": "code",
   "execution_count": 21,
   "metadata": {
    "collapsed": true
   },
   "outputs": [],
   "source": [
    "df_test = pd.read_csv('Horse_colic_dataset/horseColicTest2.txt', sep='\\t', names=np.arange(22))"
   ]
  },
  {
   "cell_type": "code",
   "execution_count": 22,
   "metadata": {
    "collapsed": false
   },
   "outputs": [],
   "source": [
    "datMat_test = df_test.values[:, 0: 21]"
   ]
  },
  {
   "cell_type": "code",
   "execution_count": 23,
   "metadata": {
    "collapsed": true
   },
   "outputs": [],
   "source": [
    "labels_test = df_test.values[:, -1]"
   ]
  },
  {
   "cell_type": "code",
   "execution_count": 24,
   "metadata": {
    "collapsed": false
   },
   "outputs": [],
   "source": [
    "prediction = adaClassify(datMat_test, classifierArray)"
   ]
  },
  {
   "cell_type": "code",
   "execution_count": 25,
   "metadata": {
    "collapsed": true
   },
   "outputs": [],
   "source": [
    "errArr = np.ones((67, ))"
   ]
  },
  {
   "cell_type": "code",
   "execution_count": 26,
   "metadata": {
    "collapsed": false
   },
   "outputs": [
    {
     "data": {
      "text/plain": [
       "0.23880597014925373"
      ]
     },
     "execution_count": 26,
     "metadata": {},
     "output_type": "execute_result"
    }
   ],
   "source": [
    "errArr[prediction != labels_test].sum()/67"
   ]
  },
  {
   "cell_type": "markdown",
   "metadata": {},
   "source": [
    "使用50个weak learners"
   ]
  },
  {
   "cell_type": "code",
   "execution_count": 27,
   "metadata": {
    "collapsed": false
   },
   "outputs": [
    {
     "name": "stdout",
     "output_type": "stream",
     "text": [
      "total error: 0.284280936455 \n",
      "\n",
      "total error: 0.284280936455 \n",
      "\n",
      "total error: 0.247491638796 \n",
      "\n",
      "total error: 0.247491638796 \n",
      "\n",
      "total error: 0.254180602007 \n",
      "\n",
      "total error: 0.240802675585 \n",
      "\n",
      "total error: 0.240802675585 \n",
      "\n",
      "total error: 0.220735785953 \n",
      "\n",
      "total error: 0.247491638796 \n",
      "\n",
      "total error: 0.230769230769 \n",
      "\n",
      "total error: 0.240802675585 \n",
      "\n",
      "total error: 0.214046822742 \n",
      "\n",
      "total error: 0.227424749164 \n",
      "\n",
      "total error: 0.217391304348 \n",
      "\n",
      "total error: 0.220735785953 \n",
      "\n",
      "total error: 0.217391304348 \n",
      "\n",
      "total error: 0.224080267559 \n",
      "\n",
      "total error: 0.224080267559 \n",
      "\n",
      "total error: 0.230769230769 \n",
      "\n",
      "total error: 0.224080267559 \n",
      "\n",
      "total error: 0.214046822742 \n",
      "\n",
      "total error: 0.207357859532 \n",
      "\n",
      "total error: 0.224080267559 \n",
      "\n",
      "total error: 0.224080267559 \n",
      "\n",
      "total error: 0.214046822742 \n",
      "\n",
      "total error: 0.220735785953 \n",
      "\n",
      "total error: 0.204013377926 \n",
      "\n",
      "total error: 0.207357859532 \n",
      "\n",
      "total error: 0.210702341137 \n",
      "\n",
      "total error: 0.217391304348 \n",
      "\n",
      "total error: 0.210702341137 \n",
      "\n",
      "total error: 0.217391304348 \n",
      "\n",
      "total error: 0.207357859532 \n",
      "\n",
      "total error: 0.210702341137 \n",
      "\n",
      "total error: 0.207357859532 \n",
      "\n",
      "total error: 0.207357859532 \n",
      "\n",
      "total error: 0.197324414716 \n",
      "\n",
      "total error: 0.190635451505 \n",
      "\n",
      "total error: 0.200668896321 \n",
      "\n",
      "total error: 0.197324414716 \n",
      "\n",
      "total error: 0.200668896321 \n",
      "\n",
      "total error: 0.19397993311 \n",
      "\n",
      "total error: 0.19397993311 \n",
      "\n",
      "total error: 0.190635451505 \n",
      "\n",
      "total error: 0.1872909699 \n",
      "\n",
      "total error: 0.190635451505 \n",
      "\n",
      "total error: 0.190635451505 \n",
      "\n",
      "total error: 0.1872909699 \n",
      "\n",
      "total error: 0.19397993311 \n",
      "\n",
      "total error: 0.1872909699 \n",
      "\n"
     ]
    }
   ],
   "source": [
    "classifierArray = adaBoostingTrainDS(datMat_horse, labels_horse, 50)"
   ]
  },
  {
   "cell_type": "code",
   "execution_count": 28,
   "metadata": {
    "collapsed": false
   },
   "outputs": [],
   "source": [
    "prediction = adaClassify(datMat_test, classifierArray)"
   ]
  },
  {
   "cell_type": "code",
   "execution_count": 29,
   "metadata": {
    "collapsed": true
   },
   "outputs": [],
   "source": [
    "errArr = np.ones((67, ))"
   ]
  },
  {
   "cell_type": "code",
   "execution_count": 30,
   "metadata": {
    "collapsed": false
   },
   "outputs": [
    {
     "data": {
      "text/plain": [
       "0.20895522388059701"
      ]
     },
     "execution_count": 30,
     "metadata": {},
     "output_type": "execute_result"
    }
   ],
   "source": [
    "errArr[prediction != labels_test].sum()/67"
   ]
  },
  {
   "cell_type": "code",
   "execution_count": 43,
   "metadata": {
    "collapsed": true
   },
   "outputs": [],
   "source": [
    "def plotROC(predStrengths, labels):\n",
    "    cur = (1., 1.)  # start from [1, 1]\n",
    "    ySum = 0.0\n",
    "    numPosClas = sum(labels == 1.0)\n",
    "    yStep = 1/float(numPosClas)\n",
    "    xStep = 1/float(len(labels)-numPosClas)\n",
    "    sortedIndicies = predStrengths.argsort()\n",
    "    fig = plt.figure()\n",
    "    fig.clf()\n",
    "    ax = plt.subplot(111)\n",
    "    for index in sortedIndicies.tolist():\n",
    "        if labels[index] == 1.0:\n",
    "            delX = 0\n",
    "            delY = yStep\n",
    "        else:\n",
    "            delX = xStep\n",
    "            delY = 0\n",
    "            ySum += cur[1]\n",
    "        ax.plot([cur[0], cur[0] - delX], [cur[1], cur[1] - delY], c='b')\n",
    "        cur = (cur[0] - delX, cur[1] - delY)\n",
    "    ax.plot([0, 1], [0, 1], 'b--')\n",
    "    plt.xlabel('False Positive Rate')\n",
    "    plt.ylabel('True Positive Rate')\n",
    "    ax.axis([0, 1, 0, 1])\n",
    "    plt.show()\n",
    "    print \"the Area Under the Curve is: \", ySum*xStep"
   ]
  },
  {
   "cell_type": "code",
   "execution_count": 35,
   "metadata": {
    "collapsed": false,
    "scrolled": true
   },
   "outputs": [
    {
     "name": "stdout",
     "output_type": "stream",
     "text": [
      "total error: 0.284280936455 \n",
      "\n",
      "total error: 0.284280936455 \n",
      "\n",
      "total error: 0.247491638796 \n",
      "\n",
      "total error: 0.247491638796 \n",
      "\n",
      "total error: 0.254180602007 \n",
      "\n",
      "total error: 0.240802675585 \n",
      "\n",
      "total error: 0.240802675585 \n",
      "\n",
      "total error: 0.220735785953 \n",
      "\n",
      "total error: 0.247491638796 \n",
      "\n",
      "total error: 0.230769230769 \n",
      "\n"
     ]
    }
   ],
   "source": [
    "classifierArray, aggClassEst = adaBoostingTrainDS(datMat_horse, labels_horse, 10)"
   ]
  },
  {
   "cell_type": "code",
   "execution_count": 44,
   "metadata": {
    "collapsed": false
   },
   "outputs": [
    {
     "name": "stdout",
     "output_type": "stream",
     "text": [
      "the Area Under the Curve is:  0.858296963506\n"
     ]
    }
   ],
   "source": [
    "plotROC(aggClassEst, labels_horse)"
   ]
  },
  {
   "cell_type": "code",
   "execution_count": null,
   "metadata": {
    "collapsed": true
   },
   "outputs": [],
   "source": []
  }
 ],
 "metadata": {
  "kernelspec": {
   "display_name": "Python 2",
   "language": "python",
   "name": "python2"
  },
  "language_info": {
   "codemirror_mode": {
    "name": "ipython",
    "version": 2
   },
   "file_extension": ".py",
   "mimetype": "text/x-python",
   "name": "python",
   "nbconvert_exporter": "python",
   "pygments_lexer": "ipython2",
   "version": "2.7.11"
  }
 },
 "nbformat": 4,
 "nbformat_minor": 0
}
