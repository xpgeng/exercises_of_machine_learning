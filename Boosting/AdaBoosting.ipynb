{
 "cells": [
  {
   "cell_type": "markdown",
   "metadata": {},
   "source": [
    "# AdaBoosting"
   ]
  },
  {
   "cell_type": "code",
   "execution_count": 1,
   "metadata": {
    "collapsed": true
   },
   "outputs": [],
   "source": [
    "import numpy as np\n",
    "import pandas as pd"
   ]
  },
  {
   "cell_type": "markdown",
   "metadata": {},
   "source": [
    "## Load data"
   ]
  },
  {
   "cell_type": "code",
   "execution_count": 2,
   "metadata": {
    "collapsed": true
   },
   "outputs": [],
   "source": [
    "df = pd.DataFrame({'x1':[1., 2., 1.3, 1., 2.], 'x2': [2.1, 1.1, 1., 1., 1.], \n",
    "                   'Labels': [1.0, 1.0, -1.0, -1.0, 1.0]})"
   ]
  },
  {
   "cell_type": "code",
   "execution_count": 7,
   "metadata": {
    "collapsed": false
   },
   "outputs": [],
   "source": [
    "datMat = df.loc[:, ['x1', 'x2']].values"
   ]
  },
  {
   "cell_type": "code",
   "execution_count": 93,
   "metadata": {
    "collapsed": false
   },
   "outputs": [
    {
     "data": {
      "text/html": [
       "<div>\n",
       "<table border=\"1\" class=\"dataframe\">\n",
       "  <thead>\n",
       "    <tr style=\"text-align: right;\">\n",
       "      <th></th>\n",
       "      <th>Labels</th>\n",
       "      <th>x1</th>\n",
       "      <th>x2</th>\n",
       "    </tr>\n",
       "  </thead>\n",
       "  <tbody>\n",
       "    <tr>\n",
       "      <th>0</th>\n",
       "      <td>1.0</td>\n",
       "      <td>1.0</td>\n",
       "      <td>2.1</td>\n",
       "    </tr>\n",
       "    <tr>\n",
       "      <th>1</th>\n",
       "      <td>1.0</td>\n",
       "      <td>2.0</td>\n",
       "      <td>1.1</td>\n",
       "    </tr>\n",
       "    <tr>\n",
       "      <th>2</th>\n",
       "      <td>-1.0</td>\n",
       "      <td>1.3</td>\n",
       "      <td>1.0</td>\n",
       "    </tr>\n",
       "    <tr>\n",
       "      <th>3</th>\n",
       "      <td>-1.0</td>\n",
       "      <td>1.0</td>\n",
       "      <td>1.0</td>\n",
       "    </tr>\n",
       "    <tr>\n",
       "      <th>4</th>\n",
       "      <td>1.0</td>\n",
       "      <td>2.0</td>\n",
       "      <td>1.0</td>\n",
       "    </tr>\n",
       "  </tbody>\n",
       "</table>\n",
       "</div>"
      ],
      "text/plain": [
       "   Labels   x1   x2\n",
       "0     1.0  1.0  2.1\n",
       "1     1.0  2.0  1.1\n",
       "2    -1.0  1.3  1.0\n",
       "3    -1.0  1.0  1.0\n",
       "4     1.0  2.0  1.0"
      ]
     },
     "execution_count": 93,
     "metadata": {},
     "output_type": "execute_result"
    }
   ],
   "source": [
    "df"
   ]
  },
  {
   "cell_type": "code",
   "execution_count": 12,
   "metadata": {
    "collapsed": false
   },
   "outputs": [],
   "source": [
    "labels = df.Labels.values"
   ]
  },
  {
   "cell_type": "code",
   "execution_count": 88,
   "metadata": {
    "collapsed": true
   },
   "outputs": [],
   "source": [
    "def stumpClassify(dataMatrix, dimen, threshVal, threshIneq):\n",
    "    retArray = np.ones((np.shape(dataMatrix)[0], ))\n",
    "    if threshIneq == 'lt':\n",
    "        retArray[dataMatrix[:, dimen] <= threshVal] = -0.1\n",
    "    else:\n",
    "        retArray[dataMatrix[:, dimen] > threshVal] = -1.0\n",
    "    return retArray"
   ]
  },
  {
   "cell_type": "code",
   "execution_count": 90,
   "metadata": {
    "collapsed": true
   },
   "outputs": [],
   "source": [
    "def buildStump(dataMatrix, labels, D):\n",
    "    '''\n",
    "    '''\n",
    "    # Initial values\n",
    "    m, n = np.shape(dataMatrix)\n",
    "    numSteps = 10.0\n",
    "    bestStump = {}\n",
    "    bestClassEst = np.zeros((m, ))\n",
    "    minError = np.inf\n",
    "    \n",
    "    # for-loop about features\n",
    "    for i in range(n):\n",
    "        rangeMin = dataMatrix[:, i].min()\n",
    "        rangeMax = dataMatrix[:, i].max()\n",
    "        stepSize = (rangeMax - rangeMin)/numSteps\n",
    "        \n",
    "        # for-loop about steps\n",
    "        for j in range(-1, int(numSteps) + 1): # -1 means threshVal less than minVal\n",
    "            \n",
    "            # for-loop about inequality\n",
    "            for inequal in ['lt', 'gt']: # try both less than and greater than  to check the error\n",
    "                \n",
    "                threshVal = (rangeMin + float(j) * stepSize)\n",
    "                predictedVals = stumpClassify(dataMatrix, i, threshVal, inequal)\n",
    "                errArr = np.ones((m, ))\n",
    "                errArr[predictedVals == labels] = 0\n",
    "                weightedError = D.dot(errArr) # scalar value\n",
    "                print \"split: dim %d, thresh %.2f, thresh ineqal: %s,\\\n",
    "                the weighted error is %.3f\" % (i, threshVal, inequal, weightedError)\n",
    "                \n",
    "                if weightedError < minError:\n",
    "                    minError = weightedError\n",
    "                    bestClassEst = predictedVals.copy()\n",
    "                    bestStump['dim'] = i\n",
    "                    bestStump['thresh'] = threshVal\n",
    "                    bestStump['ineq'] = inequal\n",
    "    return bestStump, minError, bestClassEst"
   ]
  },
  {
   "cell_type": "code",
   "execution_count": 91,
   "metadata": {
    "collapsed": true
   },
   "outputs": [],
   "source": [
    "D = np.ones((5, ))/5."
   ]
  },
  {
   "cell_type": "code",
   "execution_count": 92,
   "metadata": {
    "collapsed": false
   },
   "outputs": [
    {
     "name": "stdout",
     "output_type": "stream",
     "text": [
      "split: dim 0, thresh 0.90, thresh ineqal: lt,                the weighted error is 0.400\n",
      "split: dim 0, thresh 0.90, thresh ineqal: gt,                the weighted error is 0.600\n",
      "split: dim 0, thresh 1.00, thresh ineqal: lt,                the weighted error is 0.600\n",
      "split: dim 0, thresh 1.00, thresh ineqal: gt,                the weighted error is 0.600\n",
      "split: dim 0, thresh 1.10, thresh ineqal: lt,                the weighted error is 0.600\n",
      "split: dim 0, thresh 1.10, thresh ineqal: gt,                the weighted error is 0.600\n",
      "split: dim 0, thresh 1.20, thresh ineqal: lt,                the weighted error is 0.600\n",
      "split: dim 0, thresh 1.20, thresh ineqal: gt,                the weighted error is 0.600\n",
      "split: dim 0, thresh 1.30, thresh ineqal: lt,                the weighted error is 0.600\n",
      "split: dim 0, thresh 1.30, thresh ineqal: gt,                the weighted error is 0.800\n",
      "split: dim 0, thresh 1.40, thresh ineqal: lt,                the weighted error is 0.600\n",
      "split: dim 0, thresh 1.40, thresh ineqal: gt,                the weighted error is 0.800\n",
      "split: dim 0, thresh 1.50, thresh ineqal: lt,                the weighted error is 0.600\n",
      "split: dim 0, thresh 1.50, thresh ineqal: gt,                the weighted error is 0.800\n",
      "split: dim 0, thresh 1.60, thresh ineqal: lt,                the weighted error is 0.600\n",
      "split: dim 0, thresh 1.60, thresh ineqal: gt,                the weighted error is 0.800\n",
      "split: dim 0, thresh 1.70, thresh ineqal: lt,                the weighted error is 0.600\n",
      "split: dim 0, thresh 1.70, thresh ineqal: gt,                the weighted error is 0.800\n",
      "split: dim 0, thresh 1.80, thresh ineqal: lt,                the weighted error is 0.600\n",
      "split: dim 0, thresh 1.80, thresh ineqal: gt,                the weighted error is 0.800\n",
      "split: dim 0, thresh 1.90, thresh ineqal: lt,                the weighted error is 0.600\n",
      "split: dim 0, thresh 1.90, thresh ineqal: gt,                the weighted error is 0.800\n",
      "split: dim 0, thresh 2.00, thresh ineqal: lt,                the weighted error is 1.000\n",
      "split: dim 0, thresh 2.00, thresh ineqal: gt,                the weighted error is 0.400\n",
      "split: dim 1, thresh 0.89, thresh ineqal: lt,                the weighted error is 0.400\n",
      "split: dim 1, thresh 0.89, thresh ineqal: gt,                the weighted error is 0.600\n",
      "split: dim 1, thresh 1.00, thresh ineqal: lt,                the weighted error is 0.600\n",
      "split: dim 1, thresh 1.00, thresh ineqal: gt,                the weighted error is 0.800\n",
      "split: dim 1, thresh 1.11, thresh ineqal: lt,                the weighted error is 0.800\n",
      "split: dim 1, thresh 1.11, thresh ineqal: gt,                the weighted error is 0.600\n",
      "split: dim 1, thresh 1.22, thresh ineqal: lt,                the weighted error is 0.800\n",
      "split: dim 1, thresh 1.22, thresh ineqal: gt,                the weighted error is 0.600\n",
      "split: dim 1, thresh 1.33, thresh ineqal: lt,                the weighted error is 0.800\n",
      "split: dim 1, thresh 1.33, thresh ineqal: gt,                the weighted error is 0.600\n",
      "split: dim 1, thresh 1.44, thresh ineqal: lt,                the weighted error is 0.800\n",
      "split: dim 1, thresh 1.44, thresh ineqal: gt,                the weighted error is 0.600\n",
      "split: dim 1, thresh 1.55, thresh ineqal: lt,                the weighted error is 0.800\n",
      "split: dim 1, thresh 1.55, thresh ineqal: gt,                the weighted error is 0.600\n",
      "split: dim 1, thresh 1.66, thresh ineqal: lt,                the weighted error is 0.800\n",
      "split: dim 1, thresh 1.66, thresh ineqal: gt,                the weighted error is 0.600\n",
      "split: dim 1, thresh 1.77, thresh ineqal: lt,                the weighted error is 0.800\n",
      "split: dim 1, thresh 1.77, thresh ineqal: gt,                the weighted error is 0.600\n",
      "split: dim 1, thresh 1.88, thresh ineqal: lt,                the weighted error is 0.800\n",
      "split: dim 1, thresh 1.88, thresh ineqal: gt,                the weighted error is 0.600\n",
      "split: dim 1, thresh 1.99, thresh ineqal: lt,                the weighted error is 0.800\n",
      "split: dim 1, thresh 1.99, thresh ineqal: gt,                the weighted error is 0.600\n",
      "split: dim 1, thresh 2.10, thresh ineqal: lt,                the weighted error is 1.000\n",
      "split: dim 1, thresh 2.10, thresh ineqal: gt,                the weighted error is 0.400\n"
     ]
    },
    {
     "data": {
      "text/plain": [
       "({'dim': 0, 'ineq': 'lt', 'thresh': 0.90000000000000002},\n",
       " 0.40000000000000002,\n",
       " array([ 1.,  1.,  1.,  1.,  1.]))"
      ]
     },
     "execution_count": 92,
     "metadata": {},
     "output_type": "execute_result"
    }
   ],
   "source": [
    "buildStump(datMat, labels, D)"
   ]
  },
  {
   "cell_type": "code",
   "execution_count": null,
   "metadata": {
    "collapsed": true
   },
   "outputs": [],
   "source": []
  },
  {
   "cell_type": "code",
   "execution_count": null,
   "metadata": {
    "collapsed": true
   },
   "outputs": [],
   "source": []
  }
 ],
 "metadata": {
  "kernelspec": {
   "display_name": "Python 2",
   "language": "python",
   "name": "python2"
  },
  "language_info": {
   "codemirror_mode": {
    "name": "ipython",
    "version": 2
   },
   "file_extension": ".py",
   "mimetype": "text/x-python",
   "name": "python",
   "nbconvert_exporter": "python",
   "pygments_lexer": "ipython2",
   "version": "2.7.11"
  }
 },
 "nbformat": 4,
 "nbformat_minor": 0
}
