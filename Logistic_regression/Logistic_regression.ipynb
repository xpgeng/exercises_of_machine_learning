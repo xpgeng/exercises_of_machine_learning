{
 "cells": [
  {
   "cell_type": "code",
   "execution_count": 1,
   "metadata": {
    "collapsed": false
   },
   "outputs": [
    {
     "name": "stderr",
     "output_type": "stream",
     "text": [
      "/Users/xpgeng/anaconda/lib/python2.7/site-packages/matplotlib/font_manager.py:273: UserWarning: Matplotlib is building the font cache using fc-list. This may take a moment.\n",
      "  warnings.warn('Matplotlib is building the font cache using fc-list. This may take a moment.')\n"
     ]
    }
   ],
   "source": [
    "import statsmodels.api as sm\n",
    "import statsmodels.formula.api as smf\n",
    "import statsmodels.graphics.api as smg\n",
    "import patsy\n",
    "import matplotlib.pyplot as plt\n",
    "import numpy as np\n",
    "import pandas as pd\n",
    "from scipy import stats\n",
    "import seaborn as sns\n",
    "%matplotlib inline"
   ]
  },
  {
   "cell_type": "code",
   "execution_count": 2,
   "metadata": {
    "collapsed": true
   },
   "outputs": [],
   "source": [
    "def f(x):\n",
    "    return 1/(1+np.exp(-x))"
   ]
  },
  {
   "cell_type": "code",
   "execution_count": 3,
   "metadata": {
    "collapsed": false
   },
   "outputs": [],
   "source": [
    "x = np.linspace(-5,5,1000)"
   ]
  },
  {
   "cell_type": "code",
   "execution_count": 4,
   "metadata": {
    "collapsed": false
   },
   "outputs": [
    {
     "data": {
      "text/plain": [
       "[<matplotlib.lines.Line2D at 0x1174ece50>]"
      ]
     },
     "execution_count": 4,
     "metadata": {},
     "output_type": "execute_result"
    },
    {
     "data": {
      "image/png": "[encoded data removed]",
      "text/plain": [
       "<matplotlib.figure.Figure at 0x1174fdb10>"
      ]
     },
     "metadata": {},
     "output_type": "display_data"
    }
   ],
   "source": [
    "fig, ax = plt.subplots(figsize=(8, 4))\n",
    "\n",
    "ax.plot(x,f(x))"
   ]
  },
  {
   "cell_type": "code",
   "execution_count": 5,
   "metadata": {
    "collapsed": false
   },
   "outputs": [],
   "source": [
    "df = pd.DataFrame({'Density':[0.697, 0.774, 0.634, 0.608, 0.556, 0.403, 0.481,\n",
    "                              0.437, 0.666, 0.243, 0.245, 0.343, 0.639, 0.657, 0.360, 0.593, 0.719],\n",
    "                   'Sugar_content':[0.460, 0.376, 0.264, 0.318, 0.215, 0.237, 0.149, 0.211,\n",
    "                                   0.091, 0.267, 0.057, 0.099, 0.161, 0.198, 0.370, 0.042, 0.103],\n",
    "                   'Good_melon':[1.0, 1.0, 1.0, 1.0, 1.0, 1.0, 1.0, 1.0, 0., 0., 0. , 0., 0., 0., 0., 0., 0.]})"
   ]
  },
  {
   "cell_type": "code",
   "execution_count": 6,
   "metadata": {
    "collapsed": false,
    "scrolled": false
   },
   "outputs": [
    {
     "data": {
      "text/html": [
       "<div>\n",
       "<table border=\"1\" class=\"dataframe\">\n",
       "  <thead>\n",
       "    <tr style=\"text-align: right;\">\n",
       "      <th></th>\n",
       "      <th>Density</th>\n",
       "      <th>Good_melon</th>\n",
       "      <th>Sugar_content</th>\n",
       "    </tr>\n",
       "  </thead>\n",
       "  <tbody>\n",
       "    <tr>\n",
       "      <th>0</th>\n",
       "      <td>0.697</td>\n",
       "      <td>1.0</td>\n",
       "      <td>0.460</td>\n",
       "    </tr>\n",
       "    <tr>\n",
       "      <th>1</th>\n",
       "      <td>0.774</td>\n",
       "      <td>1.0</td>\n",
       "      <td>0.376</td>\n",
       "    </tr>\n",
       "    <tr>\n",
       "      <th>2</th>\n",
       "      <td>0.634</td>\n",
       "      <td>1.0</td>\n",
       "      <td>0.264</td>\n",
       "    </tr>\n",
       "    <tr>\n",
       "      <th>3</th>\n",
       "      <td>0.608</td>\n",
       "      <td>1.0</td>\n",
       "      <td>0.318</td>\n",
       "    </tr>\n",
       "    <tr>\n",
       "      <th>4</th>\n",
       "      <td>0.556</td>\n",
       "      <td>1.0</td>\n",
       "      <td>0.215</td>\n",
       "    </tr>\n",
       "    <tr>\n",
       "      <th>5</th>\n",
       "      <td>0.403</td>\n",
       "      <td>1.0</td>\n",
       "      <td>0.237</td>\n",
       "    </tr>\n",
       "    <tr>\n",
       "      <th>6</th>\n",
       "      <td>0.481</td>\n",
       "      <td>1.0</td>\n",
       "      <td>0.149</td>\n",
       "    </tr>\n",
       "    <tr>\n",
       "      <th>7</th>\n",
       "      <td>0.437</td>\n",
       "      <td>1.0</td>\n",
       "      <td>0.211</td>\n",
       "    </tr>\n",
       "    <tr>\n",
       "      <th>8</th>\n",
       "      <td>0.666</td>\n",
       "      <td>0.0</td>\n",
       "      <td>0.091</td>\n",
       "    </tr>\n",
       "    <tr>\n",
       "      <th>9</th>\n",
       "      <td>0.243</td>\n",
       "      <td>0.0</td>\n",
       "      <td>0.267</td>\n",
       "    </tr>\n",
       "    <tr>\n",
       "      <th>10</th>\n",
       "      <td>0.245</td>\n",
       "      <td>0.0</td>\n",
       "      <td>0.057</td>\n",
       "    </tr>\n",
       "    <tr>\n",
       "      <th>11</th>\n",
       "      <td>0.343</td>\n",
       "      <td>0.0</td>\n",
       "      <td>0.099</td>\n",
       "    </tr>\n",
       "    <tr>\n",
       "      <th>12</th>\n",
       "      <td>0.639</td>\n",
       "      <td>0.0</td>\n",
       "      <td>0.161</td>\n",
       "    </tr>\n",
       "    <tr>\n",
       "      <th>13</th>\n",
       "      <td>0.657</td>\n",
       "      <td>0.0</td>\n",
       "      <td>0.198</td>\n",
       "    </tr>\n",
       "    <tr>\n",
       "      <th>14</th>\n",
       "      <td>0.360</td>\n",
       "      <td>0.0</td>\n",
       "      <td>0.370</td>\n",
       "    </tr>\n",
       "    <tr>\n",
       "      <th>15</th>\n",
       "      <td>0.593</td>\n",
       "      <td>0.0</td>\n",
       "      <td>0.042</td>\n",
       "    </tr>\n",
       "    <tr>\n",
       "      <th>16</th>\n",
       "      <td>0.719</td>\n",
       "      <td>0.0</td>\n",
       "      <td>0.103</td>\n",
       "    </tr>\n",
       "  </tbody>\n",
       "</table>\n",
       "</div>"
      ],
      "text/plain": [
       "    Density  Good_melon  Sugar_content\n",
       "0     0.697         1.0          0.460\n",
       "1     0.774         1.0          0.376\n",
       "2     0.634         1.0          0.264\n",
       "3     0.608         1.0          0.318\n",
       "4     0.556         1.0          0.215\n",
       "5     0.403         1.0          0.237\n",
       "6     0.481         1.0          0.149\n",
       "7     0.437         1.0          0.211\n",
       "8     0.666         0.0          0.091\n",
       "9     0.243         0.0          0.267\n",
       "10    0.245         0.0          0.057\n",
       "11    0.343         0.0          0.099\n",
       "12    0.639         0.0          0.161\n",
       "13    0.657         0.0          0.198\n",
       "14    0.360         0.0          0.370\n",
       "15    0.593         0.0          0.042\n",
       "16    0.719         0.0          0.103"
      ]
     },
     "execution_count": 6,
     "metadata": {},
     "output_type": "execute_result"
    }
   ],
   "source": [
    "df"
   ]
  },
  {
   "cell_type": "code",
   "execution_count": 7,
   "metadata": {
    "collapsed": false
   },
   "outputs": [],
   "source": [
    "df.to_csv('watermelon_data.csv')"
   ]
  },
  {
   "cell_type": "code",
   "execution_count": 8,
   "metadata": {
    "collapsed": false
   },
   "outputs": [],
   "source": [
    "X = df.loc[:, ['Density', 'Sugar_content']]"
   ]
  },
  {
   "cell_type": "code",
   "execution_count": 9,
   "metadata": {
    "collapsed": false
   },
   "outputs": [],
   "source": [
    "X['Constant'] = 1.0"
   ]
  },
  {
   "cell_type": "code",
   "execution_count": 12,
   "metadata": {
    "collapsed": false
   },
   "outputs": [
    {
     "data": {
      "text/html": [
       "<div>\n",
       "<table border=\"1\" class=\"dataframe\">\n",
       "  <thead>\n",
       "    <tr style=\"text-align: right;\">\n",
       "      <th></th>\n",
       "      <th>Density</th>\n",
       "      <th>Sugar_content</th>\n",
       "      <th>Constant</th>\n",
       "    </tr>\n",
       "  </thead>\n",
       "  <tbody>\n",
       "    <tr>\n",
       "      <th>0</th>\n",
       "      <td>0.697</td>\n",
       "      <td>0.460</td>\n",
       "      <td>1.0</td>\n",
       "    </tr>\n",
       "    <tr>\n",
       "      <th>1</th>\n",
       "      <td>0.774</td>\n",
       "      <td>0.376</td>\n",
       "      <td>1.0</td>\n",
       "    </tr>\n",
       "    <tr>\n",
       "      <th>2</th>\n",
       "      <td>0.634</td>\n",
       "      <td>0.264</td>\n",
       "      <td>1.0</td>\n",
       "    </tr>\n",
       "    <tr>\n",
       "      <th>3</th>\n",
       "      <td>0.608</td>\n",
       "      <td>0.318</td>\n",
       "      <td>1.0</td>\n",
       "    </tr>\n",
       "    <tr>\n",
       "      <th>4</th>\n",
       "      <td>0.556</td>\n",
       "      <td>0.215</td>\n",
       "      <td>1.0</td>\n",
       "    </tr>\n",
       "    <tr>\n",
       "      <th>5</th>\n",
       "      <td>0.403</td>\n",
       "      <td>0.237</td>\n",
       "      <td>1.0</td>\n",
       "    </tr>\n",
       "    <tr>\n",
       "      <th>6</th>\n",
       "      <td>0.481</td>\n",
       "      <td>0.149</td>\n",
       "      <td>1.0</td>\n",
       "    </tr>\n",
       "    <tr>\n",
       "      <th>7</th>\n",
       "      <td>0.437</td>\n",
       "      <td>0.211</td>\n",
       "      <td>1.0</td>\n",
       "    </tr>\n",
       "    <tr>\n",
       "      <th>8</th>\n",
       "      <td>0.666</td>\n",
       "      <td>0.091</td>\n",
       "      <td>1.0</td>\n",
       "    </tr>\n",
       "    <tr>\n",
       "      <th>9</th>\n",
       "      <td>0.243</td>\n",
       "      <td>0.267</td>\n",
       "      <td>1.0</td>\n",
       "    </tr>\n",
       "    <tr>\n",
       "      <th>10</th>\n",
       "      <td>0.245</td>\n",
       "      <td>0.057</td>\n",
       "      <td>1.0</td>\n",
       "    </tr>\n",
       "    <tr>\n",
       "      <th>11</th>\n",
       "      <td>0.343</td>\n",
       "      <td>0.099</td>\n",
       "      <td>1.0</td>\n",
       "    </tr>\n",
       "    <tr>\n",
       "      <th>12</th>\n",
       "      <td>0.639</td>\n",
       "      <td>0.161</td>\n",
       "      <td>1.0</td>\n",
       "    </tr>\n",
       "    <tr>\n",
       "      <th>13</th>\n",
       "      <td>0.657</td>\n",
       "      <td>0.198</td>\n",
       "      <td>1.0</td>\n",
       "    </tr>\n",
       "    <tr>\n",
       "      <th>14</th>\n",
       "      <td>0.360</td>\n",
       "      <td>0.370</td>\n",
       "      <td>1.0</td>\n",
       "    </tr>\n",
       "    <tr>\n",
       "      <th>15</th>\n",
       "      <td>0.593</td>\n",
       "      <td>0.042</td>\n",
       "      <td>1.0</td>\n",
       "    </tr>\n",
       "    <tr>\n",
       "      <th>16</th>\n",
       "      <td>0.719</td>\n",
       "      <td>0.103</td>\n",
       "      <td>1.0</td>\n",
       "    </tr>\n",
       "  </tbody>\n",
       "</table>\n",
       "</div>"
      ],
      "text/plain": [
       "    Density  Sugar_content  Constant\n",
       "0     0.697          0.460       1.0\n",
       "1     0.774          0.376       1.0\n",
       "2     0.634          0.264       1.0\n",
       "3     0.608          0.318       1.0\n",
       "4     0.556          0.215       1.0\n",
       "5     0.403          0.237       1.0\n",
       "6     0.481          0.149       1.0\n",
       "7     0.437          0.211       1.0\n",
       "8     0.666          0.091       1.0\n",
       "9     0.243          0.267       1.0\n",
       "10    0.245          0.057       1.0\n",
       "11    0.343          0.099       1.0\n",
       "12    0.639          0.161       1.0\n",
       "13    0.657          0.198       1.0\n",
       "14    0.360          0.370       1.0\n",
       "15    0.593          0.042       1.0\n",
       "16    0.719          0.103       1.0"
      ]
     },
     "execution_count": 12,
     "metadata": {},
     "output_type": "execute_result"
    }
   ],
   "source": [
    "X"
   ]
  },
  {
   "cell_type": "code",
   "execution_count": 10,
   "metadata": {
    "collapsed": false
   },
   "outputs": [],
   "source": [
    "y = df.loc[:, 'Good_melon'].values"
   ]
  },
  {
   "cell_type": "code",
   "execution_count": 11,
   "metadata": {
    "collapsed": true
   },
   "outputs": [],
   "source": [
    "def cost_f(omiga, X, y):\n",
    "    m = float(len(y))\n",
    "    return np.sum((1/(1+np.exp(-np.dot(X, omiga)))-y)**2/(2*m))"
   ]
  },
  {
   "cell_type": "code",
   "execution_count": 13,
   "metadata": {
    "collapsed": true
   },
   "outputs": [],
   "source": [
    "def grad(omiga, X, y):\n",
    "    m = float(len(y))\n",
    "    return (1/(1+np.exp(-np.dot(X, omiga)))-y).dot(X)"
   ]
  },
  {
   "cell_type": "code",
   "execution_count": 15,
   "metadata": {
    "collapsed": true
   },
   "outputs": [],
   "source": [
    "omiga0 = [1.0, 1.0, 1.0]"
   ]
  },
  {
   "cell_type": "code",
   "execution_count": 24,
   "metadata": {
    "collapsed": true
   },
   "outputs": [],
   "source": [
    "alpha = 0.1"
   ]
  },
  {
   "cell_type": "code",
   "execution_count": 25,
   "metadata": {
    "collapsed": true
   },
   "outputs": [],
   "source": [
    "epsilon = 1e-3"
   ]
  },
  {
   "cell_type": "code",
   "execution_count": 29,
   "metadata": {
    "collapsed": true
   },
   "outputs": [],
   "source": [
    "iteration = 100"
   ]
  },
  {
   "cell_type": "code",
   "execution_count": 30,
   "metadata": {
    "collapsed": false,
    "scrolled": true
   },
   "outputs": [
    {
     "name": "stdout",
     "output_type": "stream",
     "text": [
      "[ 1.57649636  4.66610344 -1.93134933] 0.384398904196\n",
      "[ 1.58250915  4.69012594 -1.93975393] 0.382392395708\n",
      "[ 1.58847521  4.71404326 -1.9481098 ] 0.380402175198\n",
      "[ 1.59439504  4.73785606 -1.95641738] 0.378428071007\n",
      "[ 1.60026916  4.76156503 -1.9646771 ] 0.376469913488\n",
      "[ 1.60609807  4.78517082 -1.97288939] 0.374527534979\n",
      "[ 1.61188227  4.8086741  -1.98105467] 0.372600769785\n",
      "[ 1.61762224  4.83207552 -1.98917335] 0.370689454153\n",
      "[ 1.62331848  4.85537573 -1.99724584] 0.368793426256\n",
      "[ 1.62897147  4.87857537 -2.00527256] 0.366912526166\n",
      "[ 1.63458167  4.90167508 -2.0132539 ] 0.365046595839\n",
      "[ 1.64014956  4.92467548 -2.02119027] 0.363195479089\n",
      "[ 1.64567559  4.94757721 -2.02908205] 0.36135902157\n",
      "[ 1.65116023  4.97038089 -2.03692963] 0.359537070754\n",
      "[ 1.65660392  4.99308713 -2.04473341] 0.357729475912\n",
      "[ 1.6620071   5.01569654 -2.05249377] 0.35593608809\n",
      "[ 1.66737022  5.03820973 -2.06021107] 0.354156760094\n",
      "[ 1.67269371  5.0606273  -2.06788569] 0.352391346464\n",
      "[ 1.677978    5.08294983 -2.075518  ] 0.350639703459\n",
      "[ 1.68322351  5.10517793 -2.08310836] 0.348901689033\n",
      "[ 1.68843066  5.12731217 -2.09065715] 0.347177162819\n",
      "[ 1.69359986  5.14935313 -2.0981647 ] 0.345465986104\n",
      "[ 1.69873151  5.1713014  -2.10563137] 0.343768021815\n",
      "[ 1.70382603  5.19315753 -2.11305752] 0.342083134499\n",
      "[ 1.70888381  5.2149221  -2.12044349] 0.340411190299\n",
      "[ 1.71390524  5.23659566 -2.12778962] 0.338752056939\n",
      "[ 1.71889071  5.25817877 -2.13509624] 0.337105603706\n",
      "[ 1.7238406   5.27967199 -2.1423637 ] 0.335471701429\n",
      "[ 1.72875529  5.30107585 -2.14959232] 0.333850222459\n",
      "[ 1.73363516  5.3223909  -2.15678242] 0.332241040655\n",
      "[ 1.73848057  5.34361768 -2.16393434] 0.330644031363\n",
      "[ 1.74329189  5.36475671 -2.17104839] 0.329059071399\n",
      "[ 1.74806947  5.38580854 -2.17812488] 0.327486039029\n",
      "[ 1.75281368  5.40677368 -2.18516414] 0.325924813954\n",
      "[ 1.75752487  5.42765264 -2.19216646] 0.324375277292\n",
      "[ 1.76220338  5.44844596 -2.19913216] 0.322837311559\n",
      "[ 1.76684956  5.46915414 -2.20606155] 0.321310800654\n",
      "[ 1.77146374  5.48977768 -2.21295491] 0.319795629839\n",
      "[ 1.77604625  5.51031708 -2.21981254] 0.318291685727\n",
      "[ 1.78059744  5.53077286 -2.22663475] 0.316798856261\n",
      "[ 1.78511763  5.5511455  -2.23342181] 0.315317030699\n",
      "[ 1.78960713  5.57143548 -2.24017402] 0.313846099598\n",
      "[ 1.79406627  5.59164331 -2.24689166] 0.312385954797\n",
      "[ 1.79849537  5.61176946 -2.25357502] 0.310936489403\n",
      "[ 1.80289472  5.63181441 -2.26022436] 0.309497597773\n",
      "[ 1.80726465  5.65177863 -2.26683997] 0.308069175501\n",
      "[ 1.81160545  5.67166261 -2.27342211] 0.306651119399\n",
      "[ 1.81591743  5.69146679 -2.27997106] 0.305243327485\n",
      "[ 1.82020087  5.71119165 -2.28648709] 0.303845698967\n",
      "[ 1.82445608  5.73083765 -2.29297045] 0.302458134226\n",
      "[ 1.82868334  5.75040524 -2.29942141] 0.301080534806\n",
      "[ 1.83288294  5.76989488 -2.30584023] 0.299712803395\n",
      "[ 1.83705516  5.78930701 -2.31222716] 0.298354843812\n",
      "[ 1.84120028  5.80864208 -2.31858246] 0.297006560993\n",
      "[ 1.84531857  5.82790053 -2.32490637] 0.295667860979\n",
      "[ 1.84941031  5.8470828  -2.33119914] 0.294338650897\n",
      "[ 1.85347577  5.86618933 -2.33746102] 0.293018838953\n",
      "[ 1.85751521  5.88522054 -2.34369226] 0.291708334412\n",
      "[ 1.86152889  5.90417687 -2.34989308] 0.290407047589\n",
      "[ 1.86551708  5.92305873 -2.35606373] 0.289114889833\n",
      "[ 1.86948003  5.94186655 -2.36220445] 0.287831773518\n",
      "[ 1.87341799  5.96060076 -2.36831546] 0.286557612025\n",
      "[ 1.87733122  5.97926175 -2.37439701] 0.285292319731\n",
      "[ 1.88121995  5.99784995 -2.3804493 ] 0.284035812001\n",
      "[ 1.88508445  6.01636576 -2.38647258] 0.282788005167\n",
      "[ 1.88892494  6.03480959 -2.39246706] 0.281548816524\n",
      "[ 1.89274167  6.05318183 -2.39843296] 0.280318164312\n",
      "[ 1.89653487  6.0714829  -2.40437051] 0.279095967708\n",
      "[ 1.90030478  6.08971318 -2.41027992] 0.277882146812\n",
      "[ 1.90405162  6.10787307 -2.4161614 ] 0.276676622634\n",
      "[ 1.90777563  6.12596295 -2.42201518] 0.275479317089\n",
      "[ 1.91147703  6.14398322 -2.42784144] 0.274290152975\n",
      "[ 1.91515603  6.16193426 -2.43364042] 0.273109053974\n",
      "[ 1.91881287  6.17981644 -2.4394123 ] 0.271935944629\n",
      "[ 1.92244776  6.19763015 -2.4451573 ] 0.270770750343\n",
      "[ 1.92606091  6.21537576 -2.45087561] 0.269613397361\n",
      "[ 1.92965253  6.23305365 -2.45656744] 0.268463812766\n",
      "[ 1.93322284  6.25066417 -2.46223299] 0.267321924461\n",
      "[ 1.93677204  6.26820771 -2.46787244] 0.266187661163\n",
      "[ 1.94030034  6.28568463 -2.47348599] 0.265060952395\n",
      "[ 1.94380793  6.30309527 -2.47907385] 0.263941728471\n",
      "[ 1.94729503  6.32044002 -2.48463618] 0.262829920488\n",
      "[ 1.95076182  6.33771921 -2.49017319] 0.261725460315\n",
      "[ 1.95420851  6.3549332  -2.49568506] 0.260628280588\n",
      "[ 1.95763528  6.37208235 -2.50117197] 0.259538314694\n",
      "[ 1.96104233  6.389167   -2.5066341 ] 0.258455496765\n",
      "[ 1.96442984  6.40618749 -2.51207164] 0.257379761668\n",
      "[ 1.967798    6.42314418 -2.51748477] 0.256311044997\n",
      "[ 1.971147    6.44003739 -2.52287366] 0.255249283061\n",
      "[ 1.97447702  6.45686747 -2.52823849] 0.254194412878\n",
      "[ 1.97778824  6.47363476 -2.53357943] 0.253146372164\n",
      "[ 1.98108084  6.49033958 -2.53889665] 0.252105099325\n",
      "[ 1.98435498  6.50698226 -2.54419033] 0.251070533451\n",
      "[ 1.98761086  6.52356314 -2.54946063] 0.2500426143\n",
      "[ 1.99084863  6.54008254 -2.55470771] 0.249021282299\n",
      "[ 1.99406848  6.55654078 -2.55993176] 0.248006478529\n",
      "[ 1.99727056  6.57293818 -2.56513292] 0.246998144719\n",
      "[ 2.00045504  6.58927507 -2.57031136] 0.24599622324\n",
      "[ 2.00362209  6.60555176 -2.57546725] 0.245000657091\n",
      "[ 2.00677188  6.62176855 -2.58060073] 0.2440113899\n"
     ]
    }
   ],
   "source": [
    "for i in range(iteration):\n",
    "    omiga0 += -alpha*grad(omiga0, X, y)\n",
    "    print omiga0, abs(grad(omiga0, X, y)).sum() \n",
    "    if abs(grad(omiga0, X, y)).sum() < epsilon:\n",
    "        print omiga0\n",
    "        break"
   ]
  },
  {
   "cell_type": "code",
   "execution_count": 184,
   "metadata": {
    "collapsed": false
   },
   "outputs": [
    {
     "data": {
      "text/plain": [
       "3.3161194177398325"
      ]
     },
     "execution_count": 184,
     "metadata": {},
     "output_type": "execute_result"
    }
   ],
   "source": [
    "abs(grad(omiga0, X, y)).sum()"
   ]
  },
  {
   "cell_type": "code",
   "execution_count": 185,
   "metadata": {
    "collapsed": false
   },
   "outputs": [
    {
     "data": {
      "text/plain": [
       "array([-1.05934048, -0.56256778, -1.69421115])"
      ]
     },
     "execution_count": 185,
     "metadata": {},
     "output_type": "execute_result"
    }
   ],
   "source": [
    "grad(omiga0, X, y)"
   ]
  },
  {
   "cell_type": "code",
   "execution_count": 119,
   "metadata": {
    "collapsed": false,
    "scrolled": true
   },
   "outputs": [
    {
     "data": {
      "text/plain": [
       "array([ nan,  nan,  nan])"
      ]
     },
     "execution_count": 119,
     "metadata": {},
     "output_type": "execute_result"
    }
   ],
   "source": [
    "omiga0"
   ]
  },
  {
   "cell_type": "code",
   "execution_count": 120,
   "metadata": {
    "collapsed": false
   },
   "outputs": [
    {
     "data": {
      "text/plain": [
       "nan"
      ]
     },
     "execution_count": 120,
     "metadata": {},
     "output_type": "execute_result"
    }
   ],
   "source": [
    "abs(grad(omiga0, X, y)).sum()"
   ]
  },
  {
   "cell_type": "code",
   "execution_count": 101,
   "metadata": {
    "collapsed": false
   },
   "outputs": [
    {
     "data": {
      "text/plain": [
       "array([-0., -0., -0.])"
      ]
     },
     "execution_count": 101,
     "metadata": {},
     "output_type": "execute_result"
    }
   ],
   "source": []
  },
  {
   "cell_type": "code",
   "execution_count": null,
   "metadata": {
    "collapsed": true
   },
   "outputs": [],
   "source": []
  }
 ],
 "metadata": {
  "kernelspec": {
   "display_name": "Python 2",
   "language": "python",
   "name": "python2"
  },
  "language_info": {
   "codemirror_mode": {
    "name": "ipython",
    "version": 2
   },
   "file_extension": ".py",
   "mimetype": "text/x-python",
   "name": "python",
   "nbconvert_exporter": "python",
   "pygments_lexer": "ipython2",
   "version": "2.7.11"
  }
 },
 "nbformat": 4,
 "nbformat_minor": 0
}
