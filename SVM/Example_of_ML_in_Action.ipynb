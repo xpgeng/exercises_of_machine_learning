{
 "cells": [
  {
   "cell_type": "markdown",
   "metadata": {},
   "source": [
    "# Support Vector Machine\n",
    "\n",
    "- 先来个简单版本的SMO"
   ]
  },
  {
   "cell_type": "code",
   "execution_count": 58,
   "metadata": {
    "collapsed": false
   },
   "outputs": [],
   "source": [
    "import numpy as np\n",
    "import pandas as pd\n",
    "import matplotlib.pyplot as plt\n",
    "%matplotlib inline"
   ]
  },
  {
   "cell_type": "code",
   "execution_count": 50,
   "metadata": {
    "collapsed": true
   },
   "outputs": [],
   "source": [
    "def select_random(index, m):\n",
    "    j = index\n",
    "    while j == index:\n",
    "        j = int(np.random.uniform(0, m))\n",
    "    return j"
   ]
  },
  {
   "cell_type": "code",
   "execution_count": 51,
   "metadata": {
    "collapsed": false
   },
   "outputs": [],
   "source": [
    "def clipAlpha(alpha, High, Lowk):\n",
    "    if alpha > High:\n",
    "        alpha = High\n",
    "    elif Low > alpha:\n",
    "        alpha = Low\n",
    "    return alpha"
   ]
  },
  {
   "cell_type": "code",
   "execution_count": 52,
   "metadata": {
    "collapsed": false
   },
   "outputs": [
    {
     "data": {
      "text/plain": [
       "5"
      ]
     },
     "execution_count": 52,
     "metadata": {},
     "output_type": "execute_result"
    }
   ],
   "source": [
    "select_random(2, 10)"
   ]
  },
  {
   "cell_type": "code",
   "execution_count": 53,
   "metadata": {
    "collapsed": false
   },
   "outputs": [],
   "source": [
    "df = pd.read_csv('testSet.txt', delimiter='\\t', names=['x1', 'x2', 'y'])"
   ]
  },
  {
   "cell_type": "code",
   "execution_count": 54,
   "metadata": {
    "collapsed": false,
    "scrolled": true
   },
   "outputs": [
    {
     "data": {
      "text/html": [
       "<div>\n",
       "<table border=\"1\" class=\"dataframe\">\n",
       "  <thead>\n",
       "    <tr style=\"text-align: right;\">\n",
       "      <th></th>\n",
       "      <th>x1</th>\n",
       "      <th>x2</th>\n",
       "      <th>y</th>\n",
       "    </tr>\n",
       "  </thead>\n",
       "  <tbody>\n",
       "    <tr>\n",
       "      <th>0</th>\n",
       "      <td>3.542485</td>\n",
       "      <td>1.977398</td>\n",
       "      <td>-1</td>\n",
       "    </tr>\n",
       "    <tr>\n",
       "      <th>1</th>\n",
       "      <td>3.018896</td>\n",
       "      <td>2.556416</td>\n",
       "      <td>-1</td>\n",
       "    </tr>\n",
       "    <tr>\n",
       "      <th>2</th>\n",
       "      <td>7.551510</td>\n",
       "      <td>-1.580030</td>\n",
       "      <td>1</td>\n",
       "    </tr>\n",
       "    <tr>\n",
       "      <th>3</th>\n",
       "      <td>2.114999</td>\n",
       "      <td>-0.004466</td>\n",
       "      <td>-1</td>\n",
       "    </tr>\n",
       "    <tr>\n",
       "      <th>4</th>\n",
       "      <td>8.127113</td>\n",
       "      <td>1.274372</td>\n",
       "      <td>1</td>\n",
       "    </tr>\n",
       "  </tbody>\n",
       "</table>\n",
       "</div>"
      ],
      "text/plain": [
       "         x1        x2  y\n",
       "0  3.542485  1.977398 -1\n",
       "1  3.018896  2.556416 -1\n",
       "2  7.551510 -1.580030  1\n",
       "3  2.114999 -0.004466 -1\n",
       "4  8.127113  1.274372  1"
      ]
     },
     "execution_count": 54,
     "metadata": {},
     "output_type": "execute_result"
    }
   ],
   "source": [
    "df.head()"
   ]
  },
  {
   "cell_type": "code",
   "execution_count": 55,
   "metadata": {
    "collapsed": false
   },
   "outputs": [
    {
     "ename": "SyntaxError",
     "evalue": "invalid syntax (<ipython-input-55-5131df73ba61>, line 9)",
     "output_type": "error",
     "traceback": [
      "\u001b[0;36m  File \u001b[0;32m\"<ipython-input-55-5131df73ba61>\"\u001b[0;36m, line \u001b[0;32m9\u001b[0m\n\u001b[0;31m    gXi =\u001b[0m\n\u001b[0m          ^\u001b[0m\n\u001b[0;31mSyntaxError\u001b[0m\u001b[0;31m:\u001b[0m invalid syntax\n"
     ]
    }
   ],
   "source": [
    "def simpleSMO(df, C, toler, maxIter):\n",
    "    data = df.loc[:, ['x1', 'x2']]\n",
    "    labels = df.loc[:, 'y']\n",
    "    b = 0\n",
    "    m,n = df.shape\n",
    "    alphas = np.zeros((m, 1))\n",
    "    iteration = 0\n",
    "    while iteration < maxIter:\n",
    "        alphaPairsChanged = 0\n",
    "        for i in range(m):\n",
    "            gXi = float((alphas*labels).dot(np.(data, data[i]))) + b\n",
    "            Ei = gXi - float(df.loc[i, 'y'])\n",
    "            if ((labels[i]*Ei < -toler) and (alphas[i] < C)) or \\\n",
    "            ((labels[i]*Ei) > toler) and (alphas[i] > 0):\n",
    "                j = select_random(i, m)\n",
    "                gXj = float((alphas*labels).dot(np.(data, data[j]))) + b\n",
    "                Ei = gXj - float(df.loc[j, 'y'])\n",
    "                alphaIold = alphas[i].copy()\n",
    "                alphaJold = alphas[j].copy()\n",
    "                if labels[i] != labels[j]:\n",
    "                    Low = max(0, alphas[j] - alphas[i])\n",
    "                    High = min(C, C + alphas[j] - alphas[i])\n",
    "                else:\n",
    "                    Low = max(0, alphas[j] + alphas[i] - C)\n",
    "                    High = min(C, alphas[j] + alphas[i])\n",
    "                \n",
    "                "
   ]
  },
  {
   "cell_type": "code",
   "execution_count": 73,
   "metadata": {
    "collapsed": false
   },
   "outputs": [
    {
     "data": {
      "text/plain": [
       "1.0"
      ]
     },
     "execution_count": 73,
     "metadata": {},
     "output_type": "execute_result"
    }
   ],
   "source": []
  },
  {
   "cell_type": "code",
   "execution_count": null,
   "metadata": {
    "collapsed": true
   },
   "outputs": [],
   "source": []
  }
 ],
 "metadata": {
  "kernelspec": {
   "display_name": "Python 2",
   "language": "python",
   "name": "python2"
  },
  "language_info": {
   "codemirror_mode": {
    "name": "ipython",
    "version": 2
   },
   "file_extension": ".py",
   "mimetype": "text/x-python",
   "name": "python",
   "nbconvert_exporter": "python",
   "pygments_lexer": "ipython2",
   "version": "2.7.11"
  }
 },
 "nbformat": 4,
 "nbformat_minor": 0
}
