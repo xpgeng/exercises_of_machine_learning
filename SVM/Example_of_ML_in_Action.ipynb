{
 "cells": [
  {
   "cell_type": "markdown",
   "metadata": {},
   "source": [
    "# Support Vector Machine\n",
    "\n",
    "- 先来个简单版本的SMO"
   ]
  },
  {
   "cell_type": "code",
   "execution_count": 9,
   "metadata": {
    "collapsed": false
   },
   "outputs": [],
   "source": [
    "import numpy as np\n",
    "import pandas as pd\n",
    "import matplotlib.pyplot as plt\n",
    "%matplotlib inline"
   ]
  },
  {
   "cell_type": "code",
   "execution_count": 10,
   "metadata": {
    "collapsed": true
   },
   "outputs": [],
   "source": [
    "def select_random(index, m):\n",
    "    j = index\n",
    "    while j == index:\n",
    "        j = int(np.random.uniform(0, m))\n",
    "    return j"
   ]
  },
  {
   "cell_type": "code",
   "execution_count": 11,
   "metadata": {
    "collapsed": false
   },
   "outputs": [],
   "source": [
    "def clipAlpha(alpha, High, Low):\n",
    "    if alpha > High:\n",
    "        alpha = High\n",
    "    elif Low > alpha:\n",
    "        alpha = Low\n",
    "    return alpha"
   ]
  },
  {
   "cell_type": "code",
   "execution_count": 12,
   "metadata": {
    "collapsed": false
   },
   "outputs": [
    {
     "data": {
      "text/plain": [
       "7"
      ]
     },
     "execution_count": 12,
     "metadata": {},
     "output_type": "execute_result"
    }
   ],
   "source": [
    "select_random(2, 10)"
   ]
  },
  {
   "cell_type": "code",
   "execution_count": 13,
   "metadata": {
    "collapsed": false
   },
   "outputs": [],
   "source": [
    "df = pd.read_csv('testSet.txt', delimiter='\\t', names=['x1', 'x2', 'y'])"
   ]
  },
  {
   "cell_type": "code",
   "execution_count": 14,
   "metadata": {
    "collapsed": false
   },
   "outputs": [
    {
     "data": {
      "text/html": [
       "<div>\n",
       "<table border=\"1\" class=\"dataframe\">\n",
       "  <thead>\n",
       "    <tr style=\"text-align: right;\">\n",
       "      <th></th>\n",
       "      <th>x1</th>\n",
       "      <th>x2</th>\n",
       "      <th>y</th>\n",
       "    </tr>\n",
       "  </thead>\n",
       "  <tbody>\n",
       "    <tr>\n",
       "      <th>0</th>\n",
       "      <td>3.542485</td>\n",
       "      <td>1.977398</td>\n",
       "      <td>-1</td>\n",
       "    </tr>\n",
       "    <tr>\n",
       "      <th>1</th>\n",
       "      <td>3.018896</td>\n",
       "      <td>2.556416</td>\n",
       "      <td>-1</td>\n",
       "    </tr>\n",
       "    <tr>\n",
       "      <th>2</th>\n",
       "      <td>7.551510</td>\n",
       "      <td>-1.580030</td>\n",
       "      <td>1</td>\n",
       "    </tr>\n",
       "    <tr>\n",
       "      <th>3</th>\n",
       "      <td>2.114999</td>\n",
       "      <td>-0.004466</td>\n",
       "      <td>-1</td>\n",
       "    </tr>\n",
       "    <tr>\n",
       "      <th>4</th>\n",
       "      <td>8.127113</td>\n",
       "      <td>1.274372</td>\n",
       "      <td>1</td>\n",
       "    </tr>\n",
       "  </tbody>\n",
       "</table>\n",
       "</div>"
      ],
      "text/plain": [
       "         x1        x2  y\n",
       "0  3.542485  1.977398 -1\n",
       "1  3.018896  2.556416 -1\n",
       "2  7.551510 -1.580030  1\n",
       "3  2.114999 -0.004466 -1\n",
       "4  8.127113  1.274372  1"
      ]
     },
     "execution_count": 14,
     "metadata": {},
     "output_type": "execute_result"
    }
   ],
   "source": [
    "df.head()"
   ]
  },
  {
   "cell_type": "code",
   "execution_count": 15,
   "metadata": {
    "collapsed": false
   },
   "outputs": [],
   "source": [
    "def simpleSMO(df, C, toler, maxIter):\n",
    "    data = df.loc[:, ['x1', 'x2']]\n",
    "    labels = df.loc[:, 'y'].values\n",
    "    b = 0\n",
    "    m,n = df.shape\n",
    "    alphas = np.zeros((m, ))\n",
    "    iteration = 0\n",
    "    while iteration < maxIter:\n",
    "        alphaPairsChanged = 0\n",
    "        for i in range(m):\n",
    "            gXi = np.dot(alphas*labels, np.dot(data, data.loc[i].T))+ b# prediction of class\n",
    "            Ei = gXi - float(labels[i]) # the error between predcition and  real class\n",
    "            if ((labels[i]*Ei < -toler) and (alphas[i] < C)) or \\\n",
    "            ((labels[i]*Ei > toler) and (alphas[i] > 0)): # test the error abs(Ei) # about KKT condition???????\n",
    "                j = select_random(i, m) # select an alpha_j randomly\n",
    "                gXj = np.dot(alphas*labels, np.dot(data, data.loc[j].T)) + b\n",
    "                Ej = gXj - float(df.loc[j, 'y'])\n",
    "                alphaIold = alphas[i].copy() # save the old alpha_i\n",
    "                alphaJold = alphas[j].copy()\n",
    "                if labels[i] != labels[j]:\n",
    "                    Low = max(0, alphas[j] - alphas[i])\n",
    "                    High = min(C, C + alphas[j] - alphas[i])\n",
    "                else:\n",
    "                    Low = max(0, alphas[j] + alphas[i] - C)\n",
    "                    High = min(C, alphas[j] + alphas[i])\n",
    "                if Low == High:\n",
    "                    # print \"L==H\"\n",
    "                    continue\n",
    "                eta = 2.0 * data.loc[i].dot(data.loc[j].T) - data.loc[i].dot(data.loc[i].T) - \\\n",
    "                      data.loc[j].dot(data.loc[j].T)    # the opmitmal amount to change alpha_j\n",
    "                if eta >= 0:\n",
    "                    # print \"eta>=0\"\n",
    "                    continue\n",
    "                alphas[j] -= labels[j]*(Ei - Ej)/eta\n",
    "                alphas[j] = clipAlpha(alphas[j], High, Low)\n",
    "                if (abs(alphas[j] - alphaJold) < 0.00001) :\n",
    "                    # print \"j not moving enough\"\n",
    "                    continue\n",
    "                alphas[i] += labels[j]*labels[i]*(alphaJold - alphas[j]) # alpha_i is changed by the same amount\n",
    "                                                                         # but oppsite direction\n",
    "                \n",
    "                b1 = b - Ei - labels[i]*(alphas[i] - alphaIold)*\\\n",
    "                     data.loc[i].dot(data.loc[i].T) - labels[j]*(alphas[j] - alphaJold)*\\\n",
    "                     data.loc[i].dot(data.loc[j].T)\n",
    "                b2 = b - Ej - labels[i]*(alphas[i] - alphaIold)*\\\n",
    "                     data.loc[i].dot(data.loc[j].T) - labels[j]*(alphas[j] - alphaJold)*\\\n",
    "                     data.loc[j].dot(data.loc[j].T)\n",
    "                \n",
    "                if (0 < alphas[i]) and (C > alphas[i]):\n",
    "                    b  = b1\n",
    "                elif (0 < alphas[j]) and (C > alphas[j]):\n",
    "                    b = b2\n",
    "                else:\n",
    "                    b = (b1 + b2)/2.0\n",
    "                alphaPairsChanged += 1\n",
    "                # print \"iteration: %d, i: %d, pairs changed %d\" % (iteration, i, alphaPairsChanged)\n",
    "        if (alphaPairsChanged == 0):\n",
    "            iteration += 1\n",
    "        else:\n",
    "            iteration = 0\n",
    "        # print \"Iteration number: %d\" % iteration\n",
    "    return b, alphas"
   ]
  },
  {
   "cell_type": "code",
   "execution_count": 16,
   "metadata": {
    "collapsed": false,
    "scrolled": true
   },
   "outputs": [],
   "source": [
    "b, alphas = simpleSMO(df, 0.6, 0.001, 40)"
   ]
  },
  {
   "cell_type": "code",
   "execution_count": 17,
   "metadata": {
    "collapsed": false
   },
   "outputs": [
    {
     "data": {
      "text/plain": [
       "-3.7559531254064149"
      ]
     },
     "execution_count": 17,
     "metadata": {},
     "output_type": "execute_result"
    }
   ],
   "source": [
    "b"
   ]
  },
  {
   "cell_type": "code",
   "execution_count": 19,
   "metadata": {
    "collapsed": false,
    "scrolled": true
   },
   "outputs": [
    {
     "data": {
      "text/plain": [
       "array([ 0.07498325,  0.27659251,  0.05799535,  0.29358041])"
      ]
     },
     "execution_count": 19,
     "metadata": {},
     "output_type": "execute_result"
    }
   ],
   "source": [
    "alphas[alphas>0]"
   ]
  },
  {
   "cell_type": "markdown",
   "metadata": {},
   "source": [
    "## Get the support vectors"
   ]
  },
  {
   "cell_type": "code",
   "execution_count": 20,
   "metadata": {
    "collapsed": false
   },
   "outputs": [
    {
     "name": "stdout",
     "output_type": "stream",
     "text": [
      "x1    4.658191\n",
      "x2    3.507396\n",
      "y    -1.000000\n",
      "Name: 17, dtype: float64\n",
      "x1    3.457096\n",
      "x2   -0.082216\n",
      "y    -1.000000\n",
      "Name: 29, dtype: float64\n",
      "x1    5.286862\n",
      "x2   -2.358286\n",
      "y     1.000000\n",
      "Name: 54, dtype: float64\n",
      "x1    6.080573\n",
      "x2    0.418886\n",
      "y     1.000000\n",
      "Name: 55, dtype: float64\n"
     ]
    }
   ],
   "source": [
    "for i in range(100):\n",
    "    if alphas[i] > 0.:\n",
    "        print df.loc[i, :]"
   ]
  },
  {
   "cell_type": "markdown",
   "metadata": {},
   "source": [
    "## Get the separating hyperplane"
   ]
  },
  {
   "cell_type": "code",
   "execution_count": 21,
   "metadata": {
    "collapsed": false
   },
   "outputs": [],
   "source": [
    "lables = df.loc[:, 'y'].values\n",
    "data = df.loc[:, ['x1', 'x2']].values"
   ]
  },
  {
   "cell_type": "code",
   "execution_count": 22,
   "metadata": {
    "collapsed": false
   },
   "outputs": [],
   "source": [
    "w = np.dot(alphas*lables, data)"
   ]
  },
  {
   "cell_type": "code",
   "execution_count": 23,
   "metadata": {
    "collapsed": false
   },
   "outputs": [
    {
     "data": {
      "text/plain": [
       "array([ 0.78625735, -0.25404849])"
      ]
     },
     "execution_count": 23,
     "metadata": {},
     "output_type": "execute_result"
    }
   ],
   "source": [
    "w"
   ]
  },
  {
   "cell_type": "markdown",
   "metadata": {},
   "source": [
    "## Plot"
   ]
  },
  {
   "cell_type": "code",
   "execution_count": 24,
   "metadata": {
    "collapsed": true
   },
   "outputs": [],
   "source": [
    "x = np.linspace(-1, 10, 1000)"
   ]
  },
  {
   "cell_type": "code",
   "execution_count": 25,
   "metadata": {
    "collapsed": true
   },
   "outputs": [],
   "source": [
    "def f(x, w):\n",
    "    return -w[0]*x/w[1]-b/w[1]"
   ]
  },
  {
   "cell_type": "code",
   "execution_count": 26,
   "metadata": {
    "collapsed": false
   },
   "outputs": [
    {
     "data": {
      "text/plain": [
       "[<matplotlib.lines.Line2D at 0x116fb7c90>]"
      ]
     },
     "execution_count": 26,
     "metadata": {},
     "output_type": "execute_result"
    },
    {
     "data": {
      "image/png": "[encoded data removed]",
      "text/plain": [
       "<matplotlib.figure.Figure at 0x114c247d0>"
      ]
     },
     "metadata": {},
     "output_type": "display_data"
    }
   ],
   "source": [
    "fig, ax = plt.subplots(figsize=(8,8))\n",
    "\n",
    "ax.scatter(df[df['y']==1].loc[: ,'x1'], df[df['y']==1].loc[: ,'x2'], color='r')\n",
    "ax.scatter(df[df['y']==-1].loc[: ,'x1'], df[df['y']==-1].loc[: ,'x2'], color='k')\n",
    "ax.plot(x, f(x, w))"
   ]
  },
  {
   "cell_type": "markdown",
   "metadata": {},
   "source": [
    "# The Full Platt SMO"
   ]
  },
  {
   "cell_type": "markdown",
   "metadata": {},
   "source": [
    "## Some support functions "
   ]
  },
  {
   "cell_type": "code",
   "execution_count": 27,
   "metadata": {
    "collapsed": true
   },
   "outputs": [],
   "source": [
    "class optStruct:\n",
    "    def __inti__(self, data, labels, C, toler):\n",
    "        self.X = data\n",
    "        self.labels = labels\n",
    "        self.C = C\n",
    "        self.tol = toler\n",
    "        self.m = data.shape[0]\n",
    "        self.alphas = np.zeros((self.m, ))\n",
    "        self.b = 0\n",
    "        self.errCache = np.zeros((self.m, 2))"
   ]
  },
  {
   "cell_type": "code",
   "execution_count": 28,
   "metadata": {
    "collapsed": true
   },
   "outputs": [],
   "source": [
    "def calculateEk(oS, k):\n",
    "    fXk = np.dot(oS.alphas*oS.labels, np.dot(oS.data, oS.data.loc[k].T))+ oS.b\n",
    "    Ek = fXk - float(oS.labels[k])\n",
    "    return Ek"
   ]
  },
  {
   "cell_type": "code",
   "execution_count": 29,
   "metadata": {
    "collapsed": false
   },
   "outputs": [],
   "source": [
    "def selectJ(i, oS, Ei):\n",
    "    maxK = -1\n",
    "    maxDeltaE = 0\n",
    "    Ej = 0\n",
    "    oS.errCache[i] = [1, Ei]\n",
    "    validEcacheList = nonzero(oS.errCache[:, 0].A)[0]\n",
    "    if (len(validEcacheList)) > 1:\n",
    "        for k in validEcacheList:\n",
    "            if k == i:\n",
    "                continue\n",
    "            Ek = calculateEk(oS, k)\n",
    "            deltaE = abs(Ei - Ek)\n",
    "            if (deltaE > maxDeltaE):\n",
    "                maxK = k\n",
    "                maxDeltaE = deltaE\n",
    "                Ej = Ek\n",
    "        return maxK, Ej\n",
    "    else:\n",
    "        j = select_random(i, oS.m)\n",
    "        Ej = calculateEk(oS, j)\n",
    "    return j, Ej"
   ]
  },
  {
   "cell_type": "code",
   "execution_count": 31,
   "metadata": {
    "collapsed": true
   },
   "outputs": [],
   "source": [
    "def updateEk(oS, k):\n",
    "    Ek = calculateEk(oS, k)\n",
    "    oS.errCache[k] = [1, Ek]"
   ]
  },
  {
   "cell_type": "code",
   "execution_count": null,
   "metadata": {
    "collapsed": true
   },
   "outputs": [],
   "source": []
  }
 ],
 "metadata": {
  "kernelspec": {
   "display_name": "Python 2",
   "language": "python",
   "name": "python2"
  },
  "language_info": {
   "codemirror_mode": {
    "name": "ipython",
    "version": 2
   },
   "file_extension": ".py",
   "mimetype": "text/x-python",
   "name": "python",
   "nbconvert_exporter": "python",
   "pygments_lexer": "ipython2",
   "version": "2.7.11"
  }
 },
 "nbformat": 4,
 "nbformat_minor": 0
}
