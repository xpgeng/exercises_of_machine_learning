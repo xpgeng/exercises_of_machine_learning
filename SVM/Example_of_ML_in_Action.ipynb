{
 "cells": [
  {
   "cell_type": "markdown",
   "metadata": {},
   "source": [
    "# Support Vector Machine\n",
    "\n",
    "- 先来个简单版本的SMO"
   ]
  },
  {
   "cell_type": "code",
   "execution_count": 110,
   "metadata": {
    "collapsed": false
   },
   "outputs": [],
   "source": [
    "import numpy as np\n",
    "import pandas as pd\n",
    "import matplotlib.pyplot as plt\n",
    "%matplotlib inline"
   ]
  },
  {
   "cell_type": "code",
   "execution_count": 111,
   "metadata": {
    "collapsed": true
   },
   "outputs": [],
   "source": [
    "def select_random(index, m):\n",
    "    j = index\n",
    "    while j == index:\n",
    "        j = int(np.random.uniform(0, m))\n",
    "    return j"
   ]
  },
  {
   "cell_type": "code",
   "execution_count": 112,
   "metadata": {
    "collapsed": false
   },
   "outputs": [],
   "source": [
    "def clipAlpha(alpha, High, Low):\n",
    "    if alpha > High:\n",
    "        alpha = High\n",
    "    elif Low > alpha:\n",
    "        alpha = Low\n",
    "    return alpha"
   ]
  },
  {
   "cell_type": "code",
   "execution_count": 113,
   "metadata": {
    "collapsed": false
   },
   "outputs": [
    {
     "data": {
      "text/plain": [
       "4"
      ]
     },
     "execution_count": 113,
     "metadata": {},
     "output_type": "execute_result"
    }
   ],
   "source": [
    "select_random(2, 10)"
   ]
  },
  {
   "cell_type": "code",
   "execution_count": 114,
   "metadata": {
    "collapsed": false
   },
   "outputs": [],
   "source": [
    "df = pd.read_csv('testSet.txt', delimiter='\\t', names=['x1', 'x2', 'y'])"
   ]
  },
  {
   "cell_type": "code",
   "execution_count": 115,
   "metadata": {
    "collapsed": false
   },
   "outputs": [
    {
     "data": {
      "text/html": [
       "<div>\n",
       "<table border=\"1\" class=\"dataframe\">\n",
       "  <thead>\n",
       "    <tr style=\"text-align: right;\">\n",
       "      <th></th>\n",
       "      <th>x1</th>\n",
       "      <th>x2</th>\n",
       "      <th>y</th>\n",
       "    </tr>\n",
       "  </thead>\n",
       "  <tbody>\n",
       "    <tr>\n",
       "      <th>0</th>\n",
       "      <td>3.542485</td>\n",
       "      <td>1.977398</td>\n",
       "      <td>-1</td>\n",
       "    </tr>\n",
       "    <tr>\n",
       "      <th>1</th>\n",
       "      <td>3.018896</td>\n",
       "      <td>2.556416</td>\n",
       "      <td>-1</td>\n",
       "    </tr>\n",
       "    <tr>\n",
       "      <th>2</th>\n",
       "      <td>7.551510</td>\n",
       "      <td>-1.580030</td>\n",
       "      <td>1</td>\n",
       "    </tr>\n",
       "    <tr>\n",
       "      <th>3</th>\n",
       "      <td>2.114999</td>\n",
       "      <td>-0.004466</td>\n",
       "      <td>-1</td>\n",
       "    </tr>\n",
       "    <tr>\n",
       "      <th>4</th>\n",
       "      <td>8.127113</td>\n",
       "      <td>1.274372</td>\n",
       "      <td>1</td>\n",
       "    </tr>\n",
       "  </tbody>\n",
       "</table>\n",
       "</div>"
      ],
      "text/plain": [
       "         x1        x2  y\n",
       "0  3.542485  1.977398 -1\n",
       "1  3.018896  2.556416 -1\n",
       "2  7.551510 -1.580030  1\n",
       "3  2.114999 -0.004466 -1\n",
       "4  8.127113  1.274372  1"
      ]
     },
     "execution_count": 115,
     "metadata": {},
     "output_type": "execute_result"
    }
   ],
   "source": [
    "df.head()"
   ]
  },
  {
   "cell_type": "code",
   "execution_count": 116,
   "metadata": {
    "collapsed": false
   },
   "outputs": [],
   "source": [
    "def simpleSMO(df, C, toler, maxIter):\n",
    "    data = df.loc[:, ['x1', 'x2']]\n",
    "    labels = df.loc[:, 'y'].values\n",
    "    b = 0\n",
    "    m,n = df.shape\n",
    "    alphas = np.zeros((m, ))\n",
    "    iteration = 0\n",
    "    while iteration < maxIter:\n",
    "        alphaPairsChanged = 0\n",
    "        for i in range(m):\n",
    "            gXi = np.dot(alphas*labels, np.dot(data, data.loc[i].T))+ b# prediction of class\n",
    "            Ei = gXi - float(labels[i]) # the error between predcition and  real class\n",
    "            if ((labels[i]*Ei < -toler) and (alphas[i] < C)) or \\\n",
    "            ((labels[i]*Ei > toler) and (alphas[i] > 0)): # test the error abs(Ei) # about KKT condition???????\n",
    "                j = select_random(i, m) # select an alpha_j randomly\n",
    "                gXj = np.dot(alphas*labels, np.dot(data, data.loc[j].T)) + b\n",
    "                Ej = gXj - float(df.loc[j, 'y'])\n",
    "                alphaIold = alphas[i].copy() # save the old alpha_i\n",
    "                alphaJold = alphas[j].copy()\n",
    "                if labels[i] != labels[j]:\n",
    "                    Low = max(0, alphas[j] - alphas[i])\n",
    "                    High = min(C, C + alphas[j] - alphas[i])\n",
    "                else:\n",
    "                    Low = max(0, alphas[j] + alphas[i] - C)\n",
    "                    High = min(C, alphas[j] + alphas[i])\n",
    "                if Low == High:\n",
    "                    # print \"L==H\"\n",
    "                    continue\n",
    "                eta = 2.0 * data.loc[i].dot(data.loc[j].T) - data.loc[i].dot(data.loc[i].T) - \\\n",
    "                      data.loc[j].dot(data.loc[j].T)    # the opmitmal amount to change alpha_j\n",
    "                if eta >= 0:\n",
    "                    # print \"eta>=0\"\n",
    "                    continue\n",
    "                alphas[j] -= labels[j]*(Ei - Ej)/eta\n",
    "                alphas[j] = clipAlpha(alphas[j], High, Low)\n",
    "                if (abs(alphas[j] - alphaJold) < 0.00001) :\n",
    "                    # print \"j not moving enough\"\n",
    "                    continue\n",
    "                alphas[i] += labels[j]*labels[i]*(alphaJold - alphas[j]) # alpha_i is changed by the same amount\n",
    "                                                                         # but oppsite direction\n",
    "                \n",
    "                b1 = b - Ei - labels[i]*(alphas[i] - alphaIold)*\\\n",
    "                     data.loc[i].dot(data.loc[i].T) - labels[j]*(alphas[j] - alphaJold)*\\\n",
    "                     data.loc[i].dot(data.loc[j].T)\n",
    "                b2 = b - Ej - labels[i]*(alphas[i] - alphaIold)*\\\n",
    "                     data.loc[i].dot(data.loc[j].T) - labels[j]*(alphas[j] - alphaJold)*\\\n",
    "                     data.loc[j].dot(data.loc[j].T)\n",
    "                \n",
    "                if (0 < alphas[i]) and (C > alphas[i]):\n",
    "                    b  = b1\n",
    "                elif (0 < alphas[j]) and (C > alphas[j]):\n",
    "                    b = b2\n",
    "                else:\n",
    "                    b = (b1 + b2)/2.0\n",
    "                alphaPairsChanged += 1\n",
    "                # print \"iteration: %d, i: %d, pairs changed %d\" % (iteration, i, alphaPairsChanged)\n",
    "        if (alphaPairsChanged == 0):\n",
    "            iteration += 1\n",
    "        else:\n",
    "            iteration = 0\n",
    "        # print \"Iteration number: %d\" % iteration\n",
    "    return b, alphas"
   ]
  },
  {
   "cell_type": "code",
   "execution_count": 117,
   "metadata": {
    "collapsed": false,
    "scrolled": true
   },
   "outputs": [],
   "source": [
    "b, alphas = simpleSMO(df, 0.6, 0.001, 40)"
   ]
  },
  {
   "cell_type": "code",
   "execution_count": 118,
   "metadata": {
    "collapsed": false
   },
   "outputs": [
    {
     "data": {
      "text/plain": [
       "-3.7914744655976307"
      ]
     },
     "execution_count": 118,
     "metadata": {},
     "output_type": "execute_result"
    }
   ],
   "source": [
    "b"
   ]
  },
  {
   "cell_type": "code",
   "execution_count": 119,
   "metadata": {
    "collapsed": false,
    "scrolled": true
   },
   "outputs": [
    {
     "data": {
      "text/plain": [
       "array([ 0.1343102 ,  0.21792382,  0.01405526,  0.36628927])"
      ]
     },
     "execution_count": 119,
     "metadata": {},
     "output_type": "execute_result"
    }
   ],
   "source": [
    "alphas[alphas>0]"
   ]
  },
  {
   "cell_type": "markdown",
   "metadata": {},
   "source": [
    "## Get the support vectors"
   ]
  },
  {
   "cell_type": "code",
   "execution_count": 120,
   "metadata": {
    "collapsed": false
   },
   "outputs": [
    {
     "name": "stdout",
     "output_type": "stream",
     "text": [
      "x1    4.658191\n",
      "x2    3.507396\n",
      "y    -1.000000\n",
      "Name: 17, dtype: float64\n",
      "x1    3.457096\n",
      "x2   -0.082216\n",
      "y    -1.000000\n",
      "Name: 29, dtype: float64\n",
      "x1    2.893743\n",
      "x2   -1.643468\n",
      "y    -1.000000\n",
      "Name: 52, dtype: float64\n",
      "x1    6.080573\n",
      "x2    0.418886\n",
      "y     1.000000\n",
      "Name: 55, dtype: float64\n"
     ]
    }
   ],
   "source": [
    "for i in range(100):\n",
    "    if alphas[i] > 0.:\n",
    "        print df.loc[i, :]"
   ]
  },
  {
   "cell_type": "markdown",
   "metadata": {},
   "source": [
    "## Get the separating hyperplane"
   ]
  },
  {
   "cell_type": "code",
   "execution_count": 121,
   "metadata": {
    "collapsed": false
   },
   "outputs": [],
   "source": [
    "labels = df.loc[:, 'y'].values\n",
    "data = df.loc[:, ['x1', 'x2']].values"
   ]
  },
  {
   "cell_type": "code",
   "execution_count": 122,
   "metadata": {
    "collapsed": false
   },
   "outputs": [],
   "source": [
    "w = np.dot(alphas*lables, data)"
   ]
  },
  {
   "cell_type": "code",
   "execution_count": 123,
   "metadata": {
    "collapsed": false
   },
   "outputs": [
    {
     "data": {
      "text/plain": [
       "array([ 0.80755025, -0.2766294 ])"
      ]
     },
     "execution_count": 123,
     "metadata": {},
     "output_type": "execute_result"
    }
   ],
   "source": [
    "w"
   ]
  },
  {
   "cell_type": "markdown",
   "metadata": {},
   "source": [
    "## Plot"
   ]
  },
  {
   "cell_type": "code",
   "execution_count": 124,
   "metadata": {
    "collapsed": true
   },
   "outputs": [],
   "source": [
    "x = np.linspace(-1, 10, 1000)"
   ]
  },
  {
   "cell_type": "code",
   "execution_count": 125,
   "metadata": {
    "collapsed": true
   },
   "outputs": [],
   "source": [
    "def f(x, w):\n",
    "    return -w[0]*x/w[1]-b/w[1]"
   ]
  },
  {
   "cell_type": "code",
   "execution_count": 128,
   "metadata": {
    "collapsed": false
   },
   "outputs": [
    {
     "data": {
      "text/plain": [
       "(-2, 11)"
      ]
     },
     "execution_count": 128,
     "metadata": {},
     "output_type": "execute_result"
    },
    {
     "data": {
      "image/png": "[encoded data removed]",
      "text/plain": [
       "<matplotlib.figure.Figure at 0x117aa1850>"
      ]
     },
     "metadata": {},
     "output_type": "display_data"
    }
   ],
   "source": [
    "fig, ax = plt.subplots(figsize=(8,8))\n",
    "\n",
    "ax.scatter(df[df['y']==1].loc[: ,'x1'], df[df['y']==1].loc[: ,'x2'], color='r')\n",
    "ax.scatter(df[df['y']==-1].loc[: ,'x1'], df[df['y']==-1].loc[: ,'x2'], color='k')\n",
    "ax.plot(x, f(x, w))\n",
    "\n",
    "ax.set_ylim([-6, 6])\n",
    "ax.set_xlim([-2, 11])"
   ]
  },
  {
   "cell_type": "markdown",
   "metadata": {},
   "source": [
    "# The Full Platt SMO"
   ]
  },
  {
   "cell_type": "markdown",
   "metadata": {},
   "source": [
    "## Some support functions "
   ]
  },
  {
   "cell_type": "code",
   "execution_count": 129,
   "metadata": {
    "collapsed": true
   },
   "outputs": [],
   "source": [
    "class optStruct:\n",
    "    def __init__(self, data, labels, C, toler):\n",
    "        self.X = data\n",
    "        self.labels = labels\n",
    "        self.C = C\n",
    "        self.tol = toler\n",
    "        self.m = data.shape[0]\n",
    "        self.alphas = np.zeros((self.m, ))\n",
    "        self.b = 0\n",
    "        self.errCache = np.zeros((self.m, 2)) # store error cache"
   ]
  },
  {
   "cell_type": "markdown",
   "metadata": {},
   "source": [
    "Tip: learn to use CLASS to create the data structure"
   ]
  },
  {
   "cell_type": "code",
   "execution_count": 130,
   "metadata": {
    "collapsed": true
   },
   "outputs": [],
   "source": [
    "def calculateEk(oS, k):\n",
    "    fXk = np.dot(oS.alphas*oS.labels, np.dot(oS.X, oS.X[k].T))+ oS.b\n",
    "    Ek = fXk - float(oS.labels[k])\n",
    "    return Ek"
   ]
  },
  {
   "cell_type": "code",
   "execution_count": 131,
   "metadata": {
    "collapsed": false
   },
   "outputs": [],
   "source": [
    "def selectJ(i, oS, Ei):\n",
    "    maxK = -1\n",
    "    maxDeltaE = 0\n",
    "    Ej = 0\n",
    "    oS.errCache[i] = [1, Ei]\n",
    "    validEcacheList = np.nonzero(oS.errCache[:, 0])[0]\n",
    "    if (len(validEcacheList)) > 1:\n",
    "        for k in validEcacheList:\n",
    "            if k == i:\n",
    "                continue\n",
    "            Ek = calculateEk(oS, k)\n",
    "            deltaE = abs(Ei - Ek)\n",
    "            if (deltaE > maxDeltaE):\n",
    "                maxK = k\n",
    "                maxDeltaE = deltaE\n",
    "                Ej = Ek\n",
    "        return maxK, Ej\n",
    "    else:\n",
    "        # This is for the first time to choose an alpha\n",
    "        j = select_random(i, oS.m)\n",
    "        Ej = calculateEk(oS, j)\n",
    "    return j, Ej"
   ]
  },
  {
   "cell_type": "code",
   "execution_count": 132,
   "metadata": {
    "collapsed": true
   },
   "outputs": [],
   "source": [
    "def updateEk(oS, k):\n",
    "    Ek = calculateEk(oS, k)\n",
    "    oS.errCache[k] = [1, Ek]"
   ]
  },
  {
   "cell_type": "code",
   "execution_count": 133,
   "metadata": {
    "collapsed": true
   },
   "outputs": [],
   "source": [
    "def innerLoop(i, oS):\n",
    "    Ei = calculateEk(oS, i)\n",
    "    if ((oS.labels[i]*Ei < -oS.tol) and (oS.alphas[i] < oS.C)) or\\\n",
    "       ((oS.labels[i]*Ei > -oS.tol) and (oS.alphas[i] > 0)):\n",
    "        j, Ej = selectJ(i, oS, Ei) # different from simpleSMO\n",
    "        alphaIold = oS.alphas[i].copy()\n",
    "        alphaJold = oS.alphas[j].copy()\n",
    "        if (oS.labels[i] != oS.labels[j]):\n",
    "            Low = max(0, oS.alphas[j] - oS.alphas[i])\n",
    "            High = min(oS.C, oS.C + oS.alphas[j] - oS.alphas[i])\n",
    "        else:\n",
    "            Low = max(0, oS.alphas[j] + oS.alphas[i] - oS.C)\n",
    "            High = min(oS.C, oS.alphas[j] + oS.alphas[i])\n",
    "        if Low == High:\n",
    "            print \"L==H\"\n",
    "            return 0\n",
    "        eta = 2.0 * oS.X[i].dot(oS.X[j].T) - oS.X[i].dot(oS.X[i].T) - oS.X[j].dot(oS.X[j].T)\n",
    "        if eta >= 0:\n",
    "            print\"eta>=0\"\n",
    "            return 0\n",
    "        oS.alphas[j] -= oS.labels[j]*(Ei - Ej)/eta\n",
    "        oS.alphas[j] = clipAlpha(oS.alphas[j], High, Low)\n",
    "        updateEk(oS, j)\n",
    "        if (abs(oS.alphas[j] - alphaJold) < 0.00001):\n",
    "            print \"j not moving enough\"\n",
    "            return 0\n",
    "        oS.alphas[i] += oS.labels[j]*oS.labels[i]*(alphaJold - oS.alphas[j])\n",
    "        updateEk(oS, i)\n",
    "        b1 = oS.b - Ei - oS.labels[i]*(oS.alphas[i] - alphaIold)*oS.X[i].dot(oS.X[i].T) -\\\n",
    "             oS.labels[j]*(oS.alphas[j] - alphaJold)*oS.X[i].dot(oS.X[j].T)\n",
    "        b2 = oS.b - Ej - oS.labels[i]*(oS.alphas[i] - alphaIold)*oS.X[i].dot(oS.X[j].T) -\\\n",
    "             oS.labels[j]*(oS.alphas[j] - alphaJold)*oS.X[j].dot(oS.X[j].T)\n",
    "        if (0 < oS.alphas[i]) and (oS.C > oS.alphas[j]):\n",
    "            oS.b = b1\n",
    "        elif (0 < oS.alphas[j]) and (oS.C > oS.alphas[j]):\n",
    "            oS.b = b2\n",
    "        else:\n",
    "            oS.b = (b1 + b2)/2.0\n",
    "        return 1\n",
    "    else:\n",
    "        return 0\n",
    "        "
   ]
  },
  {
   "cell_type": "code",
   "execution_count": 134,
   "metadata": {
    "collapsed": true
   },
   "outputs": [],
   "source": [
    "def SMO(data, labels, C, toler, maxIter, kTup=('lin', 0)):\n",
    "    oS = optStruct(data, labels, C, toler)\n",
    "    iteration = 0\n",
    "    entireSet = True\n",
    "    alphaPairsChanged = 0\n",
    "    while (iteration < maxIter) and ((alphaPairsChanged > 0) or (entireSet)):\n",
    "        alphaPairsChanged = 0\n",
    "        if entireSet:\n",
    "            for i in range(oS.m):\n",
    "                alphaPairsChanged += innerLoop(i, oS)\n",
    "            print \"fullset, iter: %d, i: %d, pairs changed: %d\" %(iteration, i , alphaPairsChanged)\n",
    "            iteration += 1\n",
    "        else:\n",
    "            nonBoundIs = np.nonzero((oS.alphas > 0) * (oS.alphas < C))[0]\n",
    "            for i in nonBoundIs:\n",
    "                alphaPairsChanged += innerLoop(i ,oS)\n",
    "                print \"non-bound, iter: %d, i: %d, pairs changed: %d\" %(iteration, i , alphaPairsChanged)\n",
    "            iteration += 1\n",
    "        if entireSet:\n",
    "            entireSet = False\n",
    "        elif (alphaPairsChanged == 0):\n",
    "            entireSet = True\n",
    "        print \"Iteraion number: %d\" %iteration\n",
    "    return oS.b, oS.alphas"
   ]
  },
  {
   "cell_type": "code",
   "execution_count": 145,
   "metadata": {
    "collapsed": false
   },
   "outputs": [
    {
     "name": "stdout",
     "output_type": "stream",
     "text": [
      "L==H\n",
      "L==H\n",
      "L==H\n",
      "j not moving enough\n",
      "L==H\n",
      "L==H\n",
      "L==H\n",
      "L==H\n",
      "L==H\n",
      "L==H\n",
      "j not moving enough\n",
      "L==H\n",
      "L==H\n",
      "j not moving enough\n",
      "L==H\n",
      "L==H\n",
      "L==H\n",
      "L==H\n",
      "L==H\n",
      "j not moving enough\n",
      "fullset, iter: 0, i: 99, pairs changed: 6\n",
      "Iteraion number: 1\n",
      "j not moving enough\n",
      "non-bound, iter: 1, i: 0, pairs changed: 0\n",
      "j not moving enough\n",
      "non-bound, iter: 1, i: 3, pairs changed: 0\n",
      "j not moving enough\n",
      "non-bound, iter: 1, i: 4, pairs changed: 0\n",
      "j not moving enough\n",
      "non-bound, iter: 1, i: 17, pairs changed: 0\n",
      "j not moving enough\n",
      "non-bound, iter: 1, i: 18, pairs changed: 0\n",
      "j not moving enough\n",
      "non-bound, iter: 1, i: 25, pairs changed: 0\n",
      "j not moving enough\n",
      "non-bound, iter: 1, i: 46, pairs changed: 0\n",
      "j not moving enough\n",
      "non-bound, iter: 1, i: 55, pairs changed: 0\n",
      "j not moving enough\n",
      "non-bound, iter: 1, i: 94, pairs changed: 0\n",
      "Iteraion number: 2\n",
      "j not moving enough\n",
      "j not moving enough\n",
      "j not moving enough\n",
      "j not moving enough\n",
      "j not moving enough\n",
      "j not moving enough\n",
      "j not moving enough\n",
      "L==H\n",
      "j not moving enough\n",
      "j not moving enough\n",
      "L==H\n",
      "j not moving enough\n",
      "j not moving enough\n",
      "L==H\n",
      "L==H\n",
      "j not moving enough\n",
      "j not moving enough\n",
      "j not moving enough\n",
      "fullset, iter: 2, i: 99, pairs changed: 0\n",
      "Iteraion number: 3\n"
     ]
    }
   ],
   "source": [
    "b, alphas = SMO(data, labels, 1, 0.001, 40)"
   ]
  },
  {
   "cell_type": "code",
   "execution_count": 146,
   "metadata": {
    "collapsed": false
   },
   "outputs": [
    {
     "data": {
      "text/plain": [
       "-2.8990174816005938"
      ]
     },
     "execution_count": 146,
     "metadata": {},
     "output_type": "execute_result"
    }
   ],
   "source": [
    "b"
   ]
  },
  {
   "cell_type": "code",
   "execution_count": 147,
   "metadata": {
    "collapsed": false
   },
   "outputs": [
    {
     "data": {
      "text/plain": [
       "array([ 0.06961952,  0.0169055 ,  0.0169055 ,  0.0272699 ,  0.04522972,\n",
       "        0.0272699 ,  0.0243898 ,  0.06140181,  0.06140181])"
      ]
     },
     "execution_count": 147,
     "metadata": {},
     "output_type": "execute_result"
    }
   ],
   "source": [
    "alphas[alphas>0]"
   ]
  },
  {
   "cell_type": "code",
   "execution_count": 148,
   "metadata": {
    "collapsed": false
   },
   "outputs": [
    {
     "name": "stdout",
     "output_type": "stream",
     "text": [
      "x1    3.542485\n",
      "x2    1.977398\n",
      "y    -1.000000\n",
      "Name: 0, dtype: float64\n",
      "x1    2.114999\n",
      "x2   -0.004466\n",
      "y    -1.000000\n",
      "Name: 3, dtype: float64\n",
      "x1    8.127113\n",
      "x2    1.274372\n",
      "y     1.000000\n",
      "Name: 4, dtype: float64\n",
      "x1    4.658191\n",
      "x2    3.507396\n",
      "y    -1.000000\n",
      "Name: 17, dtype: float64\n",
      "x1    8.197181\n",
      "x2    1.545132\n",
      "y     1.000000\n",
      "Name: 18, dtype: float64\n",
      "x1    7.407860\n",
      "x2   -0.121961\n",
      "y     1.000000\n",
      "Name: 25, dtype: float64\n",
      "x1    6.960661\n",
      "x2   -0.245353\n",
      "y     1.000000\n",
      "Name: 46, dtype: float64\n",
      "x1    6.080573\n",
      "x2    0.418886\n",
      "y     1.000000\n",
      "Name: 55, dtype: float64\n",
      "x1    3.107511\n",
      "x2    0.758367\n",
      "y    -1.000000\n",
      "Name: 94, dtype: float64\n"
     ]
    }
   ],
   "source": [
    "for i in range(100):\n",
    "    if alphas[i] > 0.:\n",
    "        print df.loc[i, :]"
   ]
  },
  {
   "cell_type": "code",
   "execution_count": 149,
   "metadata": {
    "collapsed": true
   },
   "outputs": [],
   "source": [
    "w1 = np.dot(alphas*lables, data)"
   ]
  },
  {
   "cell_type": "code",
   "execution_count": 150,
   "metadata": {
    "collapsed": false
   },
   "outputs": [
    {
     "data": {
      "text/plain": [
       "array([ 0.65307162, -0.17196128])"
      ]
     },
     "execution_count": 150,
     "metadata": {},
     "output_type": "execute_result"
    }
   ],
   "source": [
    "w1"
   ]
  },
  {
   "cell_type": "code",
   "execution_count": 151,
   "metadata": {
    "collapsed": false
   },
   "outputs": [
    {
     "data": {
      "text/plain": [
       "(-2, 11)"
      ]
     },
     "execution_count": 151,
     "metadata": {},
     "output_type": "execute_result"
    },
    {
     "data": {
      "image/png": "[encoded data removed]",
      "text/plain": [
       "<matplotlib.figure.Figure at 0x119183190>"
      ]
     },
     "metadata": {},
     "output_type": "display_data"
    }
   ],
   "source": [
    "fig, ax = plt.subplots(figsize=(8,8))\n",
    "\n",
    "ax.scatter(df[df['y']==1].loc[: ,'x1'], df[df['y']==1].loc[: ,'x2'], color='r')\n",
    "ax.scatter(df[df['y']==-1].loc[: ,'x1'], df[df['y']==-1].loc[: ,'x2'], color='k')\n",
    "#ax.plot(x, f(x, w))\n",
    "ax.plot(x, f(x, w1))\n",
    "\n",
    "\n",
    "ax.set_ylim([-6, 6])\n",
    "ax.set_xlim([-2, 11])"
   ]
  },
  {
   "cell_type": "markdown",
   "metadata": {},
   "source": [
    "### Short Summary\n",
    "- 使用full version 的 SMO 计算速度明显大大加快\n",
    "- 原因是在inner loop选择第二个alpha的时候有了比较, 选出有最大误差的那一个, 而不是像之前simple version 的随机选取.\n",
    "\n",
    "**Tip**: np.matrix 有个'A'方法, 就是将np.matrix 转化成 np.array."
   ]
  },
  {
   "cell_type": "code",
   "execution_count": null,
   "metadata": {
    "collapsed": true
   },
   "outputs": [],
   "source": []
  }
 ],
 "metadata": {
  "kernelspec": {
   "display_name": "Python 2",
   "language": "python",
   "name": "python2"
  },
  "language_info": {
   "codemirror_mode": {
    "name": "ipython",
    "version": 2
   },
   "file_extension": ".py",
   "mimetype": "text/x-python",
   "name": "python",
   "nbconvert_exporter": "python",
   "pygments_lexer": "ipython2",
   "version": "2.7.11"
  }
 },
 "nbformat": 4,
 "nbformat_minor": 0
}
