{
 "cells": [
  {
   "cell_type": "markdown",
   "metadata": {},
   "source": [
    "# 使用Kernel function 分类\n",
    "- 处理线性不可分的数据\n",
    "- radial bias function\n",
    "- 低维向高维的映射, 使得本来线性不可分的数据, 在高维空间变成线性可分\n",
    "- kernel trick or kernel substation\n",
    "- Gaussian kernel funcion\n",
    "    - $K(x,z) = exp(-||x-z||^2/2\\sigma^2) $"
   ]
  },
  {
   "cell_type": "code",
   "execution_count": 1,
   "metadata": {
    "collapsed": false
   },
   "outputs": [
    {
     "name": "stderr",
     "output_type": "stream",
     "text": [
      "/Users/xpgeng/anaconda/lib/python2.7/site-packages/matplotlib/font_manager.py:273: UserWarning: Matplotlib is building the font cache using fc-list. This may take a moment.\n",
      "  warnings.warn('Matplotlib is building the font cache using fc-list. This may take a moment.')\n"
     ]
    }
   ],
   "source": [
    "import numpy as np\n",
    "import pandas as pd\n",
    "import matplotlib.pyplot as plt\n",
    "%matplotlib inline"
   ]
  },
  {
   "cell_type": "code",
   "execution_count": 35,
   "metadata": {
    "collapsed": true
   },
   "outputs": [],
   "source": [
    "def kernelTrans(X, A, kTup):\n",
    "    m, n = X.shape\n",
    "    K = np.zeros((m, ))\n",
    "    if kTup[0] == 'lin':\n",
    "        K = X*A.T\n",
    "    elif kTup[0] == 'rbf':\n",
    "        for j in range(m):\n",
    "            deltaRow = X[j] - A\n",
    "            K[j] = np.dot(deltaRow, deltaRow.T)\n",
    "        K = np.exp(K - (-1*kTup[1]**2))\n",
    "    else:\n",
    "        raise NameError('Houston We hace a problem -- That kernel is not recognized')\n",
    "    return K"
   ]
  },
  {
   "cell_type": "code",
   "execution_count": 24,
   "metadata": {
    "collapsed": true
   },
   "outputs": [],
   "source": [
    "class optStruct:\n",
    "    def __init__(self, data, labels, C, toler, kTup):\n",
    "        self.X = data\n",
    "        self.labels = labels\n",
    "        self.C = C\n",
    "        self.tol = toler\n",
    "        self.m = data.shape[0]\n",
    "        self.alphas = np.zeros((self.m, ))\n",
    "        self.b = 0\n",
    "        self.errCache = np.zeros((self.m, 2)) # store error cache\n",
    "        self.K = np.zeros((self.m, self.m))\n",
    "        for i in range(self.m):\n",
    "            self.K[:, i] = kernelTrans(self.X, self.X[i], kTup)"
   ]
  },
  {
   "cell_type": "code",
   "execution_count": 25,
   "metadata": {
    "collapsed": false
   },
   "outputs": [],
   "source": [
    "def innerLoop(i, oS):\n",
    "    Ei = calculateEk(oS, i)\n",
    "    if ((oS.labels[i]*Ei < -oS.tol) and (oS.alphas[i] < oS.C)) or\\\n",
    "       ((oS.labels[i]*Ei > -oS.tol) and (oS.alphas[i] > 0)):\n",
    "        j, Ej = selectJ(i, oS, Ei) # different from simpleSMO\n",
    "        alphaIold = oS.alphas[i].copy()\n",
    "        alphaJold = oS.alphas[j].copy()\n",
    "        if (oS.labels[i] != oS.labels[j]):\n",
    "            Low = max(0, oS.alphas[j] - oS.alphas[i])\n",
    "            High = min(oS.C, oS.C + oS.alphas[j] - oS.alphas[i])\n",
    "        else:\n",
    "            Low = max(0, oS.alphas[j] + oS.alphas[i] - oS.C)\n",
    "            High = min(oS.C, oS.alphas[j] + oS.alphas[i])\n",
    "        if Low == High:\n",
    "            print \"L==H\"\n",
    "            return 0\n",
    "        eta = 2.0 * oS.K[i, j] - oS.K[i, i] - oS.K[j, j]\n",
    "        if eta >= 0:\n",
    "            print\"eta>=0\"\n",
    "            return 0\n",
    "        oS.alphas[j] -= oS.labels[j]*(Ei - Ej)/eta\n",
    "        oS.alphas[j] = clipAlpha(oS.alphas[j], High, Low)\n",
    "        updateEk(oS, j)\n",
    "        if (abs(oS.alphas[j] - alphaJold) < 0.00001):\n",
    "            print \"j not moving enough\"\n",
    "            return 0\n",
    "        oS.alphas[i] += oS.labels[j]*oS.labels[i]*(alphaJold - oS.alphas[j])\n",
    "        updateEk(oS, i)\n",
    "        b1 = oS.b - Ei - oS.labels[i]*(oS.alphas[i] - alphaIold)*oS.K[i, i] -\\\n",
    "             oS.labels[j]*(oS.alphas[j] - alphaJold)*oS.K[i, j]\n",
    "        b2 = oS.b - Ej - oS.labels[i]*(oS.alphas[i] - alphaIold)*oS.K[i, j] -\\\n",
    "             oS.labels[j]*(oS.alphas[j] - alphaJold)*oS.K[j, j]\n",
    "        if (0 < oS.alphas[i]) and (oS.C > oS.alphas[j]):\n",
    "            oS.b = b1\n",
    "        elif (0 < oS.alphas[j]) and (oS.C > oS.alphas[j]):\n",
    "            oS.b = b2\n",
    "        else:\n",
    "            oS.b = (b1 + b2)/2.0\n",
    "        return 1\n",
    "    else:\n",
    "        return 0"
   ]
  },
  {
   "cell_type": "code",
   "execution_count": 39,
   "metadata": {
    "collapsed": true
   },
   "outputs": [],
   "source": [
    "def select_random(index, m):\n",
    "    j = index\n",
    "    while j == index:\n",
    "        j = int(np.random.uniform(0, m))\n",
    "    return j"
   ]
  },
  {
   "cell_type": "code",
   "execution_count": 40,
   "metadata": {
    "collapsed": true
   },
   "outputs": [],
   "source": [
    "def calculateEk(oS, k):\n",
    "    fXk = np.dot(oS.alphas*oS.labels, oS.K[:, k])+ oS.b\n",
    "    Ek = fXk - float(oS.labels[k])\n",
    "    return Ek"
   ]
  },
  {
   "cell_type": "code",
   "execution_count": 41,
   "metadata": {
    "collapsed": true
   },
   "outputs": [],
   "source": [
    "def selectJ(i, oS, Ei):\n",
    "    maxK = -1\n",
    "    maxDeltaE = 0\n",
    "    Ej = 0\n",
    "    oS.errCache[i] = [1, Ei]\n",
    "    validEcacheList = np.nonzero(oS.errCache[:, 0])[0]\n",
    "    if (len(validEcacheList)) > 1:\n",
    "        for k in validEcacheList:\n",
    "            if k == i:\n",
    "                continue\n",
    "            Ek = calculateEk(oS, k)\n",
    "            deltaE = abs(Ei - Ek)\n",
    "            if (deltaE > maxDeltaE):\n",
    "                maxK = k\n",
    "                maxDeltaE = deltaE\n",
    "                Ej = Ek\n",
    "        return maxK, Ej\n",
    "    else:\n",
    "        # This is for the first time to choose an alpha\n",
    "        j = select_random(i, oS.m)\n",
    "        Ej = calculateEk(oS, j)\n",
    "    return j, Ej"
   ]
  },
  {
   "cell_type": "code",
   "execution_count": 27,
   "metadata": {
    "collapsed": true
   },
   "outputs": [],
   "source": [
    "def SMO(data, labels, C, toler, maxIter, kTup=('lin', 0)):\n",
    "    oS = optStruct(data, labels, C, toler, kTup)\n",
    "    iteration = 0\n",
    "    entireSet = True\n",
    "    alphaPairsChanged = 0\n",
    "    while (iteration < maxIter) and ((alphaPairsChanged > 0) or (entireSet)):\n",
    "        alphaPairsChanged = 0\n",
    "        if entireSet:\n",
    "            for i in range(oS.m):\n",
    "                alphaPairsChanged += innerLoop(i, oS)\n",
    "            print \"fullset, iter: %d, i: %d, pairs changed: %d\" %(iteration, i , alphaPairsChanged)\n",
    "            iteration += 1\n",
    "        else:\n",
    "            nonBoundIs = np.nonzero((oS.alphas > 0) * (oS.alphas < C))[0]\n",
    "            for i in nonBoundIs:\n",
    "                alphaPairsChanged += innerLoop(i ,oS)\n",
    "                print \"non-bound, iter: %d, i: %d, pairs changed: %d\" %(iteration, i , alphaPairsChanged)\n",
    "            iteration += 1\n",
    "        if entireSet:\n",
    "            entireSet = False\n",
    "        elif (alphaPairsChanged == 0):\n",
    "            entireSet = True\n",
    "        print \"Iteraion number: %d\" %iteration\n",
    "    return oS.b, oS.alphas"
   ]
  },
  {
   "cell_type": "code",
   "execution_count": 54,
   "metadata": {
    "collapsed": true
   },
   "outputs": [],
   "source": [
    "def testRBF(k1=1.3):\n",
    "    df = pd.read_csv('testSetRBF.txt', delimiter='\\t', names=['x1', 'x2', 'y'])\n",
    "    data = df.loc[:, ['x1', 'x2']].values\n",
    "    labels = df.loc[:, 'y'].values\n",
    "    b, alphas = SMO(data, labels, 200, 0.0001, 10000, ('rbf', k1))\n",
    "    svInd = np.nonzero(alphas > 0)[0]\n",
    "    sVs = data[svInd]\n",
    "    labelSV = labels[svInd]\n",
    "    print \"there are %d Support Vectors\" % sVs.shape[0]\n",
    "    m, n = data.shape\n",
    "    errorCount = 0\n",
    "    for i in range(m):\n",
    "        kernelEval = kernelTrans(sVs, data[i], ('rbf', k1))\n",
    "        predict = np.dot(kernelEval.T, np.dot(labelSV, alphas[svInd])) + b\n",
    "        if np.sign(predict) != np.sign(labels[i]):\n",
    "            errorCount += 1\n",
    "    print \"the training error rate is: %f\" %(float(errorCount)/m)\n",
    "    df = pd.read_csv('testSetRBF2.txt', delimiter='\\t', names=['x1', 'x2', 'y'])\n",
    "    data = df.loc[:, ['x1', 'x2']].values\n",
    "    labels = df.loc[:, 'y'].values\n",
    "    errorCount = 0\n",
    "    for i in range(m):\n",
    "        kernelEval = kernelTrans(sVs, data[i], ('rbf', k1))\n",
    "        predict = np.dot(kernelEval.T, np.dot(labelSV, alphas[svInd])) + b\n",
    "        if np.sign(predict) != np.sign(labels[i]):\n",
    "            errorCount += 1\n",
    "    print \"the test error rate is: %f\" % (float(errorCount)/m)    "
   ]
  },
  {
   "cell_type": "code",
   "execution_count": 66,
   "metadata": {
    "collapsed": false
   },
   "outputs": [],
   "source": [
    "K = np.zeros((100,100))"
   ]
  },
  {
   "cell_type": "code",
   "execution_count": 58,
   "metadata": {
    "collapsed": true
   },
   "outputs": [],
   "source": [
    "df = pd.read_csv('testSetRBF.txt', delimiter='\\t', names=['x1', 'x2', 'y'])\n",
    "data = df.loc[:, ['x1', 'x2']].values\n",
    "labels = df.loc[:, 'y'].values"
   ]
  },
  {
   "cell_type": "code",
   "execution_count": 76,
   "metadata": {
    "collapsed": false
   },
   "outputs": [
    {
     "name": "stdout",
     "output_type": "stream",
     "text": [
      "L==H\n",
      "eta>=0\n",
      "eta>=0\n",
      "eta>=0\n",
      "eta>=0\n",
      "eta>=0\n",
      "eta>=0\n",
      "eta>=0\n",
      "eta>=0\n",
      "eta>=0\n",
      "eta>=0\n",
      "eta>=0\n",
      "eta>=0\n",
      "eta>=0\n",
      "eta>=0\n",
      "eta>=0\n",
      "eta>=0\n",
      "eta>=0\n",
      "eta>=0\n",
      "eta>=0\n",
      "eta>=0\n",
      "eta>=0\n",
      "eta>=0\n",
      "eta>=0\n",
      "eta>=0\n",
      "eta>=0\n",
      "eta>=0\n",
      "eta>=0\n",
      "eta>=0\n",
      "eta>=0\n",
      "eta>=0\n",
      "eta>=0\n",
      "eta>=0\n",
      "eta>=0\n",
      "eta>=0\n",
      "eta>=0\n",
      "eta>=0\n",
      "eta>=0\n",
      "eta>=0\n",
      "eta>=0\n",
      "eta>=0\n",
      "eta>=0\n",
      "eta>=0\n",
      "eta>=0\n",
      "eta>=0\n",
      "eta>=0\n",
      "eta>=0\n",
      "eta>=0\n",
      "eta>=0\n",
      "eta>=0\n",
      "eta>=0\n",
      "eta>=0\n",
      "eta>=0\n",
      "eta>=0\n",
      "eta>=0\n",
      "eta>=0\n",
      "eta>=0\n",
      "eta>=0\n",
      "eta>=0\n",
      "eta>=0\n",
      "eta>=0\n",
      "eta>=0\n",
      "eta>=0\n",
      "eta>=0\n",
      "eta>=0\n",
      "eta>=0\n",
      "eta>=0\n",
      "eta>=0\n",
      "eta>=0\n",
      "eta>=0\n",
      "eta>=0\n",
      "eta>=0\n",
      "eta>=0\n",
      "eta>=0\n",
      "eta>=0\n",
      "eta>=0\n",
      "eta>=0\n",
      "eta>=0\n",
      "eta>=0\n",
      "eta>=0\n",
      "eta>=0\n",
      "eta>=0\n",
      "eta>=0\n",
      "eta>=0\n",
      "eta>=0\n",
      "eta>=0\n",
      "eta>=0\n",
      "eta>=0\n",
      "eta>=0\n",
      "eta>=0\n",
      "eta>=0\n",
      "eta>=0\n",
      "eta>=0\n",
      "eta>=0\n",
      "eta>=0\n",
      "eta>=0\n",
      "eta>=0\n",
      "eta>=0\n",
      "eta>=0\n",
      "eta>=0\n",
      "fullset, iter: 0, i: 99, pairs changed: 0\n",
      "Iteraion number: 1\n",
      "0 [ 0.  0.  0.  0.  0.  0.  0.  0.  0.  0.  0.  0.  0.  0.  0.  0.  0.  0.\n",
      "  0.  0.  0.  0.  0.  0.  0.  0.  0.  0.  0.  0.  0.  0.  0.  0.  0.  0.\n",
      "  0.  0.  0.  0.  0.  0.  0.  0.  0.  0.  0.  0.  0.  0.  0.  0.  0.  0.\n",
      "  0.  0.  0.  0.  0.  0.  0.  0.  0.  0.  0.  0.  0.  0.  0.  0.  0.  0.\n",
      "  0.  0.  0.  0.  0.  0.  0.  0.  0.  0.  0.  0.  0.  0.  0.  0.  0.  0.\n",
      "  0.  0.  0.  0.  0.  0.  0.  0.  0.  0.]\n",
      "there are 0 Support Vectors\n",
      "the training error rate is: 0.000000\n",
      "the test error rate is: 0.000000\n"
     ]
    }
   ],
   "source": [
    "testRBF(k1=1.3)"
   ]
  },
  {
   "cell_type": "code",
   "execution_count": null,
   "metadata": {
    "collapsed": true
   },
   "outputs": [],
   "source": []
  }
 ],
 "metadata": {
  "kernelspec": {
   "display_name": "Python 2",
   "language": "python",
   "name": "python2"
  },
  "language_info": {
   "codemirror_mode": {
    "name": "ipython",
    "version": 2
   },
   "file_extension": ".py",
   "mimetype": "text/x-python",
   "name": "python",
   "nbconvert_exporter": "python",
   "pygments_lexer": "ipython2",
   "version": "2.7.11"
  }
 },
 "nbformat": 4,
 "nbformat_minor": 0
}
